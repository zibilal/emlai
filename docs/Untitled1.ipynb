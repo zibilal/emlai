{
 "cells": [
  {
   "cell_type": "code",
   "execution_count": 1,
   "metadata": {},
   "outputs": [],
   "source": [
    "import numpy as np\n",
    "import matplotlib.pyplot as plt\n",
    "import matplotlib.animation as animation"
   ]
  },
  {
   "cell_type": "code",
   "execution_count": 2,
   "metadata": {},
   "outputs": [],
   "source": [
    "# fungsi untuk minimize\n",
    "def f(x):\n",
    "    return x**2 + 5*x + 24\n",
    "\n",
    "# derivative of the f(x)\n",
    "def fd(x):\n",
    "    return 2*x + 5"
   ]
  },
  {
   "cell_type": "code",
   "execution_count": 3,
   "metadata": {},
   "outputs": [],
   "source": [
    "def animate(i):\n",
    "    global x_est\n",
    "    global y_est\n",
    "    \n",
    "    #Gradient descent\n",
    "    x_est = x_est - fd(x_est)*r\n",
    "    y_est = f(x_est)\n",
    "    \n",
    "    #update plotsnya\n",
    "    scat.set_offsets([[x_est, y_est]])\n",
    "    text.set_text(\"Value: {:.2f}\".format(y_est))\n",
    "    line.set_data(x, y)\n",
    "    return line, scat, text"
   ]
  },
  {
   "cell_type": "code",
   "execution_count": 4,
   "metadata": {},
   "outputs": [],
   "source": [
    "def init():\n",
    "    line.set_data([], [])\n",
    "    return line"
   ]
  },
  {
   "cell_type": "code",
   "execution_count": null,
   "metadata": {},
   "outputs": [],
   "source": [
    "if __name__ == '__main__':\n",
    "    x_min = -30\n",
    "    x_max = 30\n",
    "    x = np.linspace(x_min, x_max, 200)\n",
    "    y = f(x)\n",
    "    r = 0.05\n",
    "    x_est = 25\n",
    "    y_est = f(x_est)\n",
    "    \n",
    "    #Visualisasi\n",
    "    fig, ax = plt.subplots()\n",
    "    ax.set_xlim([x_min, x_max])\n",
    "    ax.set_ylim([-5, 1500])\n",
    "    ax.set_xlabel(\"x\")\n",
    "    ax.set_ylabel(\"f(x)\")\n",
    "    plt.title(\"Gradient Descent\")\n",
    "    \n",
    "    line, = ax.plot([], [])\n",
    "    scat = ax.scatter([], [], c=\"red\")\n",
    "    text = ax.text(-25, 1300, \"\")\n",
    "    \n",
    "    ani = animation.FuncAnimation(fig, animate, 100, init_func=init, interval=100, blit=True)\n",
    "    plot.Show()"
   ]
  }
 ],
 "metadata": {
  "kernelspec": {
   "display_name": "Python 3",
   "language": "python",
   "name": "python3"
  },
  "language_info": {
   "codemirror_mode": {
    "name": "ipython",
    "version": 3
   },
   "file_extension": ".py",
   "mimetype": "text/x-python",
   "name": "python",
   "nbconvert_exporter": "python",
   "pygments_lexer": "ipython3",
   "version": "3.6.7"
  }
 },
 "nbformat": 4,
 "nbformat_minor": 2
}
