{
 "cells": [
  {
   "cell_type": "markdown",
   "metadata": {},
   "source": [
    "1. Supervised learning ditandai dengan input yang sifatnya [`kontinu`|`kategorikal`|`tidak berpengaruh kontinu maupun kategorikal`]\n",
    "2. Suatu problem disebut problem Supervised learning apabila ia [`memiliki`|`tidak memiliki`] label\n",
    "3. Supervised learning memiliki target yang sifatnya [`kontinu`|`kategorikal`]\n",
    "4. Unsupervised learning [`tidak`|`harus`] memiliki label\n",
    "5. Sebutkan 2 jenis Supervised Learning berdasarkan problem nya !\n",
    "6. Sebutkan beberapa contoh Unsupervised Learning !\n",
    "7. Apa keuntungan menggunakan conda environment ?\n",
    "8. Apa gunanya package nb_conda ?\n",
    "9. Apa masing-masing fokus dari numpy, pandas, dan matplotlib ?\n",
    "10. Kenapa kita butuh numpy array ?\n",
    "11. Apa itu dataframe ?\n",
    "12. Apa fitur yang ditonjolkan oleh Seaborn ?\n",
    "13. Apa package machine-learning yang paling populer ? (opini sih, tapi most would agree)\n",
    "14. Kenapa kita perlu melakukan dataset splitting ?\n",
    "15. Kenapa kita perlu melakukan K-fold Cross Validation ?\n",
    "16. Untuk `Dataset Titanic`, coba bandingkan survival berdasarkan gender. Selain itu, coba analisis juga dari segi umur. Apakah ada insight yang bisa kita dapatkan ? (tips: pakai seaborn)"
   ]
  },
  {
   "cell_type": "code",
   "execution_count": null,
   "metadata": {},
   "outputs": [],
   "source": []
  }
 ],
 "metadata": {
  "kernelspec": {
   "display_name": "Python 3",
   "language": "python",
   "name": "python3"
  },
  "language_info": {
   "codemirror_mode": {
    "name": "ipython",
    "version": 3
   },
   "file_extension": ".py",
   "mimetype": "text/x-python",
   "name": "python",
   "nbconvert_exporter": "python",
   "pygments_lexer": "ipython3",
   "version": "3.6.7"
  }
 },
 "nbformat": 4,
 "nbformat_minor": 2
}
