{
 "cells": [
  {
   "cell_type": "code",
   "execution_count": 8,
   "metadata": {},
   "outputs": [],
   "source": [
    "def is_palrec(st, s, e):\n",
    "    # if there's only one character\n",
    "    if s == e:\n",
    "        return True\n",
    "    \n",
    "    # if first and last charcters do not match\n",
    "    if st[s] != st[e]:\n",
    "        return False\n",
    "    \n",
    "    # if there're more than two characters, check if\n",
    "    # middle substring is also palindrome, or not\n",
    "    if s < e + 1:\n",
    "        return is_palrec(st, s+1, e-1)\n",
    "    \n",
    "    # if all goods, just return true\n",
    "    return True"
   ]
  },
  {
   "cell_type": "code",
   "execution_count": 9,
   "metadata": {},
   "outputs": [],
   "source": [
    "def is_palindrome(dt):\n",
    "    st = dt.replace(' ', '')\n",
    "    n = len(st)\n",
    "    if n == 0:\n",
    "        return True\n",
    "    \n",
    "    return is_palrec(st, 0, n-1)"
   ]
  },
  {
   "cell_type": "code",
   "execution_count": 10,
   "metadata": {},
   "outputs": [
    {
     "name": "stdout",
     "output_type": "stream",
     "text": [
      "satuduatiga\n"
     ]
    }
   ],
   "source": [
    "str = \"satu dua tiga\"\n",
    "print(str.replace(' ', ''))"
   ]
  },
  {
   "cell_type": "code",
   "execution_count": 11,
   "metadata": {},
   "outputs": [
    {
     "name": "stdout",
     "output_type": "stream",
     "text": [
      "Is palindrome\n"
     ]
    }
   ],
   "source": [
    "chck = \"geeg\"\n",
    "if is_palindrome(chck):\n",
    "    print(\"Is palindrome\")\n",
    "else:\n",
    "    print(\"Is not palindrome\")"
   ]
  },
  {
   "cell_type": "code",
   "execution_count": 16,
   "metadata": {},
   "outputs": [],
   "source": [
    "def is_palindrome2(dtr):\n",
    "    def is_pal_rec(st, s, e):\n",
    "        # check for str that only have a single character\n",
    "        if s == e:\n",
    "            return True\n",
    "        # check for first and last character, if different return false\n",
    "        if st[s] != st[e]:\n",
    "            return False\n",
    "        # for string more than two characters, check if the middle substring is a palindrome\n",
    "        if s < e + 1:\n",
    "            return is_pal_rec(st, s+1, e-1)\n",
    "        return True\n",
    "    \n",
    "    dt = dtr.replace(' ', '')\n",
    "    if len(dt) == 0:\n",
    "        return True\n",
    "    \n",
    "    return is_pal_rec(dt, 0, len(dt)-1)"
   ]
  },
  {
   "cell_type": "code",
   "execution_count": 17,
   "metadata": {},
   "outputs": [],
   "source": [
    "chck1 = 'racecar'\n",
    "chck2 = 'nurses run'"
   ]
  },
  {
   "cell_type": "code",
   "execution_count": 18,
   "metadata": {},
   "outputs": [
    {
     "name": "stdout",
     "output_type": "stream",
     "text": [
      "Is palindrome\n"
     ]
    }
   ],
   "source": [
    "if is_palindrome2(chck1):\n",
    "    print(\"Is palindrome\")\n",
    "else:\n",
    "    print(\"Is not palindrome\")"
   ]
  },
  {
   "cell_type": "code",
   "execution_count": 19,
   "metadata": {},
   "outputs": [
    {
     "name": "stdout",
     "output_type": "stream",
     "text": [
      "Is palindrome\n"
     ]
    }
   ],
   "source": [
    "if is_palindrome2(chck2):\n",
    "    print(\"Is palindrome\")\n",
    "else:\n",
    "    print(\"Is not palindrome\")"
   ]
  },
  {
   "cell_type": "code",
   "execution_count": null,
   "metadata": {},
   "outputs": [],
   "source": []
  }
 ],
 "metadata": {
  "kernelspec": {
   "display_name": "Python 3",
   "language": "python",
   "name": "python3"
  },
  "language_info": {
   "codemirror_mode": {
    "name": "ipython",
    "version": 3
   },
   "file_extension": ".py",
   "mimetype": "text/x-python",
   "name": "python",
   "nbconvert_exporter": "python",
   "pygments_lexer": "ipython3",
   "version": "3.6.7"
  }
 },
 "nbformat": 4,
 "nbformat_minor": 2
}
