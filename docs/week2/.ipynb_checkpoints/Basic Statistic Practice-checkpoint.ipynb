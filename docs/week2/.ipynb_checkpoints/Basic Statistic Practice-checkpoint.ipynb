{
 "cells": [
  {
   "cell_type": "code",
   "execution_count": 1,
   "metadata": {},
   "outputs": [],
   "source": [
    "import numpy as np\n",
    "from scipy import stats"
   ]
  },
  {
   "cell_type": "code",
   "execution_count": 2,
   "metadata": {},
   "outputs": [],
   "source": [
    "import matplotlib\n",
    "import matplotlib.pyplot as plt\n",
    "import scipy.stats"
   ]
  },
  {
   "cell_type": "code",
   "execution_count": 3,
   "metadata": {},
   "outputs": [],
   "source": [
    "matplotlib.style.use('ggplot')"
   ]
  },
  {
   "cell_type": "code",
   "execution_count": 4,
   "metadata": {},
   "outputs": [
    {
     "name": "stdout",
     "output_type": "stream",
     "text": [
      "data:\n",
      "[18.  7.  7.  5. 14. -2. 19.  6. 12.  9. 17. -0.  8.  8. 16.  5.  9.  6.\n",
      " 10. 13.  4. 16. 15. 13. 15.  7.  9.  5.  9. 13.  7.  8.  7.  6.  7. 10.\n",
      "  4. 11. 18. 14.  9.  6.  6. 18. 10.  7. 11. 21. 11. 13. 12.  8.  4.  8.\n",
      "  9. 13. 14. 15. 11. 14.  6. 16. 13.  9. 12. 10. 16. 18. 21.  3.  3.  7.\n",
      " 11. 14. 12. -0.  8. 14. 11. 14.  9.  9. 11. 12. 11. 11.  7. 12. 11. 16.\n",
      " 16. 11.  8.  7. 12. 10.  8. 10.  7. 13.]\n"
     ]
    }
   ],
   "source": [
    "np.random.seed(1)\n",
    "data = np.round(np.random.normal(10, 5, 100))\n",
    "print(\"data:\")\n",
    "print(data)"
   ]
  },
  {
   "cell_type": "code",
   "execution_count": 5,
   "metadata": {},
   "outputs": [
    {
     "name": "stdout",
     "output_type": "stream",
     "text": [
      "mean:\n",
      "10.34\n"
     ]
    }
   ],
   "source": [
    "mean=np.mean(data)\n",
    "print(\"mean:\")\n",
    "print(mean)"
   ]
  },
  {
   "cell_type": "code",
   "execution_count": 6,
   "metadata": {},
   "outputs": [
    {
     "name": "stdout",
     "output_type": "stream",
     "text": [
      "median:\n",
      "10.0\n"
     ]
    }
   ],
   "source": [
    "median=np.median(data)\n",
    "print(\"median:\")\n",
    "print(median)"
   ]
  },
  {
   "cell_type": "code",
   "execution_count": 7,
   "metadata": {},
   "outputs": [
    {
     "name": "stdout",
     "output_type": "stream",
     "text": [
      "mode:\n",
      "ModeResult(mode=array([7.]), count=array([11]))\n"
     ]
    }
   ],
   "source": [
    "mode=stats.mode(data)\n",
    "print(\"mode:\")\n",
    "print(mode)"
   ]
  },
  {
   "cell_type": "code",
   "execution_count": 8,
   "metadata": {},
   "outputs": [
    {
     "name": "stdout",
     "output_type": "stream",
     "text": [
      "range:\n",
      "23.0\n"
     ]
    }
   ],
   "source": [
    "ranges=np.ptp(data)\n",
    "print(\"range:\")\n",
    "print(ranges)"
   ]
  },
  {
   "cell_type": "code",
   "execution_count": 9,
   "metadata": {},
   "outputs": [
    {
     "name": "stdout",
     "output_type": "stream",
     "text": [
      "var:\n",
      "19.824400000000004\n"
     ]
    }
   ],
   "source": [
    "var=np.var(data)\n",
    "print(\"var:\")\n",
    "print(var)"
   ]
  },
  {
   "cell_type": "code",
   "execution_count": 10,
   "metadata": {},
   "outputs": [
    {
     "name": "stdout",
     "output_type": "stream",
     "text": [
      "std:\n",
      "4.452459994205451\n"
     ]
    }
   ],
   "source": [
    "std=np.std(data)\n",
    "print(\"std:\")\n",
    "print(std)"
   ]
  },
  {
   "cell_type": "code",
   "execution_count": 11,
   "metadata": {},
   "outputs": [
    {
     "data": {
      "text/plain": [
       "<function matplotlib.pyplot.show(*args, **kw)>"
      ]
     },
     "execution_count": 11,
     "metadata": {},
     "output_type": "execute_result"
    },
    {
     "data": {
      "image/png": "[encoded data removed]",
      "text/plain": [
       "<Figure size 432x288 with 1 Axes>"
      ]
     },
     "metadata": {},
     "output_type": "display_data"
    }
   ],
   "source": [
    "plt.hist(data, bins=20, range=(0,20), edgecolor='black')\n",
    "plt.show"
   ]
  },
  {
   "cell_type": "markdown",
   "metadata": {},
   "source": [
    "Positive Correlation"
   ]
  },
  {
   "cell_type": "code",
   "execution_count": 12,
   "metadata": {},
   "outputs": [
    {
     "data": {
      "text/plain": [
       "array([33,  2, 20, 19, 48, 32, 28, 18, 31, 28, 30, 10,  8, 45, 35, 32,  8,\n",
       "       20, 13, 15, 41,  0, 44, 19, 24, 49, 42, 20, 44, 15, 30, 27, 14, 19,\n",
       "       26, 43, 22,  7, 35, 47, 46, 34, 36, 36, 32, 19,  3, 24, 19, 37, 30,\n",
       "       38, 47, 39,  5, 15, 49, 23, 32, 42, 10,  2, 24, 34, 30, 17,  4,  0,\n",
       "       14, 17, 39, 35, 17, 28, 22, 38, 41, 10, 13,  6, 25, 38, 48, 48, 44,\n",
       "       41,  0, 22, 16, 19,  9, 48, 28, 47, 10,  4, 23, 14, 21, 46,  3, 24,\n",
       "       16, 46, 15,  7, 14, 13, 15, 25, 20, 21, 46, 29, 44, 37, 22, 27, 12,\n",
       "       12, 26, 12,  7, 23, 39, 43, 12, 38, 27, 48,  5, 34, 33, 43, 26,  5,\n",
       "        9, 25, 27, 43,  1, 18, 30, 32, 26, 20, 30, 39,  0, 22, 34,  3,  6,\n",
       "       12, 39, 38, 19, 47, 48,  6, 13, 36, 23, 22,  2, 28, 42, 31,  9, 41,\n",
       "       24, 45, 29, 12, 18, 42, 11, 41, 36, 48, 16, 30, 42, 20, 35, 41, 17,\n",
       "        2, 21, 29, 36, 45, 46, 16, 27,  8, 28,  2, 35, 13, 41, 36, 36, 40,\n",
       "       18, 33, 38, 46, 40, 25, 39, 48, 37,  2, 34, 28, 14, 11, 42, 26, 40,\n",
       "       21, 16, 28, 37, 41, 45, 40, 42, 11, 22,  6, 32, 14, 36, 23, 11, 35,\n",
       "       32, 46, 27, 49, 38,  0, 22, 33,  6, 36, 18, 27, 28, 37, 38, 30, 46,\n",
       "        7, 21, 16, 39, 29, 11, 14, 40, 30,  8, 40, 48, 30, 23,  2, 28,  0,\n",
       "       39, 12, 17, 33, 10, 28, 41, 11,  5, 17,  5, 42, 22, 14, 23, 17, 10,\n",
       "        8, 48, 19, 12, 25, 13, 16,  4, 24, 27,  4,  3, 12,  2, 12, 32, 32,\n",
       "       15, 36, 10, 12, 18, 30,  5, 16, 31, 32, 43, 44, 31, 43, 35, 44, 24,\n",
       "       15, 21, 19, 13, 33,  4, 39,  3, 34, 34, 42, 14, 18, 38, 38, 48, 17,\n",
       "        5, 38, 27,  8, 40,  5,  5,  7, 14, 37, 41, 14, 33, 27, 13, 30, 43,\n",
       "       46,  9,  3,  3,  3, 33, 35, 16, 28, 37,  0, 37, 29, 18, 14, 39,  6,\n",
       "       28, 10, 32, 46, 29, 18, 36, 29, 39, 28, 29, 39, 26, 27, 42, 12, 17,\n",
       "        7, 27,  7, 19, 32, 12, 38, 32, 30, 22,  5, 27, 31, 41, 22, 12, 45,\n",
       "       22, 38, 18, 29, 29, 18, 31, 49, 34, 19, 29, 45, 43, 22, 15,  7, 48,\n",
       "       28, 19, 27, 43, 19, 15,  6, 24, 22, 11, 37,  1, 29, 15, 34, 22, 45,\n",
       "       42, 22, 45, 39, 18, 40, 44, 16, 17, 43, 24, 38,  0, 48, 33, 18,  7,\n",
       "       14, 36, 26, 32,  1, 48, 24, 22, 34, 30, 21,  4,  3, 48, 18, 33, 11,\n",
       "       11, 12,  4, 45,  0, 25, 40,  7,  7, 33,  7, 34,  4,  5, 39, 12, 45,\n",
       "       32, 21, 28,  7, 28, 47, 25, 41, 33,  1, 13, 38, 21, 27, 38, 20, 33,\n",
       "        1, 31, 49, 38, 28, 11, 35, 31,  2,  3, 32, 10, 32, 33,  5,  0, 37,\n",
       "       46,  8, 43, 44, 24, 16, 32, 32, 41, 24, 21, 27, 46, 35,  4, 32, 45,\n",
       "       24, 38, 42, 25, 32, 40, 33,  6,  1, 31,  7, 13,  3, 28, 15, 29,  2,\n",
       "       47, 19, 32, 18, 40, 34, 30, 32, 49, 46, 19, 41, 20, 40, 46,  4,  9,\n",
       "        0, 26, 21, 10, 21, 33, 38, 37, 43, 39, 33, 31, 41,  7,  5,  6, 23,\n",
       "       22, 42, 39, 31, 37, 38, 23, 28, 36,  2, 10, 20,  0, 16, 30,  3, 14,\n",
       "       44, 48,  5, 49, 10, 43, 46, 27, 33,  8,  4, 39, 32, 47, 33,  7, 33,\n",
       "       14, 13, 43, 21, 36, 12, 26, 18, 37, 35, 12, 41, 35, 25, 37,  1, 44,\n",
       "       41, 43,  0, 15, 28, 40,  6, 49, 32, 26, 20, 38,  1, 16, 25, 19, 30,\n",
       "        0, 42, 47, 21, 33,  1, 25, 38, 12, 48, 18, 13, 13, 24, 44, 26, 19,\n",
       "       39, 34, 15, 37, 38, 32, 36, 34, 46,  1, 32, 30, 37,  7, 48, 32, 43,\n",
       "       41,  5,  1, 33, 30, 18, 49, 17, 18, 31,  7, 21, 18, 46, 44, 27,  9,\n",
       "        4, 13, 23, 31, 37,  0, 18, 31,  1, 20, 14, 41,  4, 25, 19, 27, 28,\n",
       "        8, 45, 12, 46, 49, 11,  8, 10, 23, 24, 25, 18, 18,  5, 47, 42, 46,\n",
       "       21,  9, 42, 13, 18, 23, 45, 31, 33, 14, 47, 40, 49,  8,  1, 22,  2,\n",
       "       22,  1,  8,  7, 48, 23, 13, 48,  0, 42, 39,  3, 43, 43, 10, 34, 33,\n",
       "       11,  2, 10, 27,  5, 26,  3, 31, 11,  3,  1, 13, 17,  8, 38,  4,  6,\n",
       "       12,  9,  5, 15, 20, 31, 26,  7, 43,  2, 32, 46, 11, 18, 44,  0, 37,\n",
       "       47,  9, 26, 20, 15,  1,  5,  2, 25, 28, 19, 43, 17,  5, 45, 15, 10,\n",
       "       29, 17, 17, 46,  7, 17, 22,  0,  7, 29, 28, 35, 43, 34, 40,  5, 28,\n",
       "       41, 34, 34, 19, 13, 37, 25,  4, 43, 11, 29, 12, 25, 32, 40, 42, 23,\n",
       "       25, 43, 40, 24, 31, 28,  0, 22, 24, 22, 10, 43, 31,  9, 39,  6, 30,\n",
       "        3, 18, 12,  9, 10, 27,  1, 21, 42,  6,  9, 36, 23,  8, 23, 18, 42,\n",
       "       21,  3, 14, 20, 43, 21,  9, 42,  2, 20, 43, 16, 13, 42, 35, 11, 28,\n",
       "       42, 21, 34, 44, 42, 28, 18,  8, 30,  0, 13, 18, 38, 11, 19, 12,  4,\n",
       "       45, 25, 40, 35,  5, 31, 29,  2, 32,  7, 29,  8, 27, 33, 29,  4, 38,\n",
       "       33,  9,  3, 14, 20, 35, 28, 45, 28,  4, 15, 11, 31, 36, 12, 38, 19,\n",
       "       16, 47, 36, 10,  6, 26, 36, 30, 35,  0, 38, 18, 31, 41, 31, 48, 42,\n",
       "       49, 22,  0,  6, 45, 32, 27,  0, 26, 20, 26,  1, 37, 13])"
      ]
     },
     "execution_count": 12,
     "metadata": {},
     "output_type": "execute_result"
    }
   ],
   "source": [
    "# 1000 random integers between 0 and 50\n",
    "x = np.random.randint(0,50,1000)\n",
    "x"
   ]
  },
  {
   "cell_type": "code",
   "execution_count": 13,
   "metadata": {},
   "outputs": [
    {
     "data": {
      "text/plain": [
       "array([ 2.86552713e+01, -6.18906367e+00,  2.08656369e+01,  3.09388298e+01,\n",
       "        5.54002557e+01,  6.74060652e+00,  1.82393364e+01,  9.05286488e+00,\n",
       "        8.43146250e+00,  1.86637431e+01,  2.63205980e+01,  1.08925285e+01,\n",
       "        7.93037122e+00,  4.48743833e+01,  2.69566996e+01,  3.37948100e+01,\n",
       "        1.82652168e+01,  1.43407273e+01,  3.30050941e+01,  3.30456151e+01,\n",
       "        1.39487561e+01, -1.22682523e+01,  4.24042808e+01,  2.53270912e+01,\n",
       "        6.61742189e+00,  4.33044504e+01,  5.77870030e+01,  2.25180463e+01,\n",
       "        4.56438777e+01,  1.74614917e+01,  1.75786381e+01,  2.94523265e+01,\n",
       "        2.94961181e+01,  1.43775691e+01,  2.58010268e+01,  3.78091693e+01,\n",
       "        4.90636989e+01,  2.26740291e+01,  3.92737619e+01,  3.65746805e+01,\n",
       "        3.99788616e+01,  2.93717157e+01,  3.65843422e+01,  1.15011003e+01,\n",
       "        3.40914939e+01,  6.71766161e+00, -2.15807743e-01,  2.67452888e+01,\n",
       "        1.73260702e+01,  4.16077767e+01,  4.06423206e+01,  5.06718644e+01,\n",
       "        5.01446377e+01,  4.19765702e+01,  2.41731864e+01,  2.10919115e+01,\n",
       "        4.64638486e+01,  2.29926942e+01,  3.27394117e+01,  6.04991652e+01,\n",
       "        1.33999397e+01, -9.13795530e-01,  2.99248104e+01,  4.24023900e+01,\n",
       "        3.04478101e+01,  1.89961379e+01,  3.96972783e+00, -5.20781146e-01,\n",
       "        3.74401082e+01,  3.19009795e+01,  4.12248750e+01,  4.12235817e+01,\n",
       "        1.52709507e+01,  2.41293888e+01, -4.17446425e+00,  3.55491576e+01,\n",
       "        3.97109549e+01, -1.00363863e+01,  1.48847935e+01, -2.84490564e+00,\n",
       "        2.75366455e+01,  4.52143073e+01,  3.65533567e+01,  5.48490463e+01,\n",
       "        4.38721782e+01,  7.19274074e+01, -1.52434418e+01,  3.92360531e+01,\n",
       "        2.37164117e+01,  3.24416971e+01,  1.13329689e+01,  5.36384340e+01,\n",
       "        2.45057804e+01,  3.21278360e+01,  1.48131745e+01,  4.11270517e+00,\n",
       "        2.99251864e+01,  2.61866029e+01,  1.29020407e+01,  3.42094135e+01,\n",
       "        5.75586052e+00,  1.64167818e+01,  1.12624171e+01,  5.66468382e+01,\n",
       "        1.37075975e+01, -7.95656353e+00,  7.95042498e+00,  3.90837007e-01,\n",
       "        1.22400839e+01,  4.18023095e+01,  1.79084578e+01,  1.55608931e+01,\n",
       "        6.14655189e+01,  3.74091922e+01,  5.43819001e+01,  2.86120124e+01,\n",
       "        9.45385926e+00,  6.52011813e+00, -1.34118815e+00,  6.51748755e+00,\n",
       "        2.16310650e+01,  1.65325379e+01,  6.11668577e-02,  2.88607537e+01,\n",
       "        4.99634419e+01,  2.68696747e+01,  2.80456564e+00,  5.35961595e+01,\n",
       "        3.43296373e+01,  3.10433900e+01, -1.35008609e+01,  2.51345814e+01,\n",
       "        4.77945099e+01,  3.82951179e+01,  2.64914598e+01,  1.63119461e+01,\n",
       "       -5.15115249e-01,  1.80316819e+01,  4.32135325e+01,  4.62632794e+01,\n",
       "       -7.95786570e+00,  2.85678353e+01,  2.60255510e+01,  4.10350944e+01,\n",
       "        2.47126810e+01,  3.44954820e+01,  2.58716138e+01,  3.65180120e+01,\n",
       "       -2.97395294e+00,  1.70541819e+01,  4.87750104e+01, -3.36191394e+00,\n",
       "        5.50934622e+00, -8.09301059e+00,  3.26264650e+01,  2.56599426e+01,\n",
       "        2.27106608e+01,  4.23352606e+01,  4.21955151e+01,  4.31049172e+00,\n",
       "        4.24834989e+00,  4.90474470e+01,  4.17371974e+01,  2.09863980e+01,\n",
       "       -1.42301837e+01,  3.07793032e+01,  3.75661190e+01,  4.64007769e+01,\n",
       "        8.76585660e+00,  3.58863472e+01,  2.25298550e+01,  3.71251653e+01,\n",
       "        3.08898865e+01,  4.04672735e-01,  2.19372435e+01,  4.34404010e+01,\n",
       "        1.20901450e+01,  1.98681245e+01,  3.24162800e+01,  5.34030938e+01,\n",
       "        5.80649133e+00,  3.45039382e+01,  5.36539957e+01,  1.41038905e+01,\n",
       "        3.62334547e+01,  3.67820802e+01,  2.37609570e+01,  7.65503550e+00,\n",
       "        3.88618215e+01,  2.50693152e+01,  3.97830561e+01,  3.40892352e+01,\n",
       "        2.94953300e+01,  1.08701574e+01,  2.24039567e+01,  1.44790630e+01,\n",
       "        2.68533909e+01, -6.31201711e+00,  2.75934861e+01,  1.32554021e+01,\n",
       "        2.30075670e+01,  3.22888543e+01,  1.03460866e+01,  4.28181500e+01,\n",
       "        1.83084589e+01,  3.83506827e+01,  3.35112382e+01,  3.50521664e+01,\n",
       "        2.85460303e+01,  8.00024109e+00,  4.03418780e+01,  5.08846181e+01,\n",
       "        3.62335684e+01, -1.94951209e+00,  2.16539763e+01,  3.62031650e+01,\n",
       "        3.43398733e+01,  1.15839044e+01,  4.12709041e+01,  5.06208962e+01,\n",
       "        3.98202116e+01,  1.79941530e+01,  2.50087153e+01,  1.71447411e+01,\n",
       "        5.16005638e+01,  4.31602824e+01,  6.22700112e+01,  4.65372776e+01,\n",
       "        4.30895094e+01,  2.34604731e+01,  2.08477658e+01,  8.77470875e+00,\n",
       "        3.32124558e+01,  3.05493406e+01,  3.37153590e+01,  1.81840172e+01,\n",
       "        2.58837229e+01,  4.76114791e+01,  3.03300636e+01,  3.90767274e+01,\n",
       "        2.71835473e+01,  4.20016037e+01,  4.38149406e+01, -7.51781744e+00,\n",
       "        4.71594044e+00,  2.50541340e+01,  1.94549417e+01,  4.90928536e+01,\n",
       "        2.33374341e+01,  3.00364790e+01,  2.25109566e+01,  1.39149137e+01,\n",
       "        4.36451579e+01,  1.73070377e+01,  6.28049843e+01, -9.27459435e+00,\n",
       "        2.77662460e+00,  2.03608260e+01,  3.97350328e+01,  4.35865110e+01,\n",
       "        1.90469708e+01,  9.21165381e-01,  3.22472774e+01,  4.90442944e+01,\n",
       "       -4.74455257e+00,  3.73834952e+01,  5.47304535e+01,  3.24498683e+01,\n",
       "        2.94480895e+01, -7.18923328e-01,  3.52470600e+01,  4.29141546e-01,\n",
       "        4.31865068e+01,  2.13614173e+01,  2.65117823e+01,  3.68924911e+01,\n",
       "        8.94320202e+00,  3.53584534e+01,  4.16869007e+01,  4.53091282e+00,\n",
       "        9.29134234e+00,  1.33818720e+01,  8.15461184e+00,  4.36200284e+01,\n",
       "        3.01360472e+01,  1.37158895e+01,  3.39277109e+01,  1.47563988e+01,\n",
       "       -7.00539020e-01,  6.68133587e+00,  4.50578415e+01, -2.67427632e-01,\n",
       "        2.20749646e+01,  3.89721854e+01,  3.20773653e+00,  2.80134525e+00,\n",
       "        4.44186282e+00,  1.29973533e+01,  1.41629626e+01,  8.69975143e+00,\n",
       "        1.19357822e+01,  2.52650924e+01,  6.75588261e+00,  2.44978415e+01,\n",
       "        3.48026990e+01,  4.94457985e+01,  1.47847829e+00,  4.72498778e+01,\n",
       "        5.41760090e+00,  1.17717598e+01,  2.34081772e+01,  2.91208158e+01,\n",
       "        1.59939310e+01,  4.18570504e+00,  1.82479073e+01,  3.67051600e+01,\n",
       "        3.78674719e+01,  3.54374965e+01,  1.04532170e+01,  4.77959327e+01,\n",
       "        4.60280668e+01,  4.35277541e+01,  2.61565291e+01,  2.89189263e+01,\n",
       "        2.66848991e+01,  9.98810675e+00,  9.94761207e+00,  4.74670872e+01,\n",
       "        1.14748868e-01,  5.06305279e+01,  1.38079777e+01,  3.37187638e+01,\n",
       "        3.76355649e+01,  4.63407641e+01,  2.73229156e+01,  1.81966091e+01,\n",
       "        5.00311717e+01,  3.75254273e+01,  4.35321950e+01,  3.24899261e+01,\n",
       "        4.27780054e+00,  2.73239149e+01,  3.36400390e+01,  5.90118821e+00,\n",
       "        4.21548242e+01,  6.76520838e+00,  9.68040668e+00,  1.95519134e+01,\n",
       "        1.75721864e+01,  4.09951363e+01,  3.88537561e+01,  4.65330873e+00,\n",
       "        1.56562088e+01,  2.50695608e+01,  1.16125982e+01,  2.11235891e+01,\n",
       "        4.47314215e+01,  3.65249193e+01,  2.03995186e+00, -6.83932001e-02,\n",
       "        1.71994336e+01,  1.39609468e+01,  1.60964380e+01,  5.06868036e+01,\n",
       "       -1.93547535e+00,  2.84001876e+01,  3.17400288e+01,  6.73314569e+00,\n",
       "        3.45973640e+01,  2.28958172e+01,  3.49316869e+01,  7.51830538e+00,\n",
       "        4.22520516e+01,  1.70965098e+00,  2.23145233e+01,  6.40954958e+00,\n",
       "        3.19932987e+01,  5.00364372e+01,  2.16395891e+01,  8.67506950e+00,\n",
       "        1.11260695e+01,  3.25335997e+01,  3.66877627e+01,  1.41043758e+01,\n",
       "        4.12457044e+01,  4.99740223e+01,  1.85778523e+01,  1.48946318e+01,\n",
       "        4.72219356e+01,  1.72725581e+01, -8.32691137e-01,  1.13443040e+01,\n",
       "        2.64978588e+01,  1.01431332e+01,  2.63941705e+01,  3.60199260e+01,\n",
       "        1.16707261e+01,  2.80324997e+01,  2.12907122e+01,  3.19044028e+01,\n",
       "        2.33863420e+01, -1.12652154e+00,  2.49920628e+01,  2.50575942e+01,\n",
       "        3.72742288e+01,  2.39571297e+01, -7.52657707e+00,  3.36631099e+01,\n",
       "        4.01397385e+01,  2.51972523e+01,  4.62113721e+00,  4.27418241e+01,\n",
       "        2.57896970e+01,  2.32867866e+01,  3.63132667e+01,  3.24778501e+01,\n",
       "        2.67380703e+01,  1.32472599e+01,  3.17309961e+01,  3.67391288e+01,\n",
       "        3.98211555e+01,  2.02591421e+01,  2.60040966e+01, -5.81225320e+00,\n",
       "        4.93587626e+01,  1.96735070e+01,  7.62783996e-01,  2.82897358e+01,\n",
       "        4.38487381e+01, -7.91193336e+00, -6.52313431e+00,  1.68927659e+01,\n",
       "        3.10080540e+01,  2.59215424e+01,  1.49761052e+01,  3.86895281e+01,\n",
       "       -5.00026786e+00,  4.92272747e+01,  2.17020458e+01,  3.13560022e+01,\n",
       "        1.88121736e+01,  7.09966978e+01,  5.64058842e+01,  3.30892917e+01,\n",
       "        3.86978136e+01,  6.11149029e+01,  3.92466920e+01,  4.01644216e+01,\n",
       "        5.40277972e+01,  2.73023959e+01,  3.61722525e+01,  5.43650254e+01,\n",
       "        1.90465469e+01,  3.38111511e+01,  3.29654724e+00,  4.19139411e+01,\n",
       "        4.78171343e+01,  1.98384302e+01,  2.13995830e+01,  9.76191817e+00,\n",
       "        3.85831383e+01,  2.20735149e+01,  1.21457442e+01,  1.63583084e+00,\n",
       "        4.65034261e+01,  3.22368091e+01,  2.84517838e+01,  4.71759920e+01,\n",
       "        3.75077402e+01,  2.65613821e+01, -5.85167976e+00,  1.25166507e+00,\n",
       "        4.12252259e+01,  1.13073302e+01,  3.94643174e+01,  9.27273433e+00,\n",
       "        8.07452382e-01,  2.02071586e+00, -3.56241146e+00,  4.48666801e+01,\n",
       "        1.30572797e+01,  2.92720060e+01,  5.15210575e+01,  1.76918851e+01,\n",
       "        4.56804473e+00,  4.39192781e+01,  1.07945701e+01,  3.03864914e+01,\n",
       "        8.53207975e+00,  1.28764022e+01,  1.45657710e+01,  7.71302602e+00,\n",
       "        4.36546307e+01,  4.18592689e+01,  2.92850577e+01,  9.82157508e+00,\n",
       "        1.47199522e+01,  1.94214184e+01,  6.40515493e+01,  2.82188870e+01,\n",
       "        4.79638840e+01,  2.59450397e+01, -4.45676366e-01,  1.50397791e+01,\n",
       "        2.08326901e+01,  3.28475114e+01,  2.70006385e+01,  4.55152452e+01,\n",
       "        2.54400089e+01,  3.02246496e+01, -1.11815462e+01,  1.35782182e+01,\n",
       "        3.87107241e+01,  4.33796054e+01,  1.52788378e+01,  3.32455678e+01,\n",
       "        3.37883973e+01,  3.77767185e+01,  1.56592549e+01,  2.14500395e-01,\n",
       "        3.06948785e+01,  1.57910789e+01,  1.10511999e+01,  5.19108731e+01,\n",
       "        1.39623729e+01,  2.24677277e+01,  4.74995233e+01,  5.35408283e+01,\n",
       "       -6.55893768e+00,  2.98221845e+01,  4.77791226e+01,  2.44751335e+01,\n",
       "        4.96191377e+00,  3.10655704e+01,  4.61765691e+01,  4.58718823e+01,\n",
       "        3.47479227e+01,  1.85909995e+01, -6.06860851e+00,  3.20935743e+01,\n",
       "        4.05528913e+01, -7.59534578e+00,  3.49676079e+01,  4.10921853e+01,\n",
       "        1.24068915e+01,  2.90496113e+01,  3.44547786e+01,  1.18015837e+01,\n",
       "        1.85944924e+01,  4.86693925e+01,  3.22199898e+01, -1.49850647e+01,\n",
       "       -6.94580321e-02,  1.34464733e+01,  5.39925325e+00,  1.31395310e+01,\n",
       "       -9.84155752e+00,  1.84140390e+01,  1.07916059e+01,  2.42288448e+01,\n",
       "        1.07110463e+01,  5.09797107e+01,  1.45283042e+01,  4.23791029e+01,\n",
       "       -7.54465234e+00,  4.13527795e+01,  4.12375067e+01,  4.45819280e+01,\n",
       "        1.69397096e+01,  4.22033668e+01,  6.30323951e+01,  2.35039483e+01,\n",
       "        3.18626063e+01,  1.46591042e+01,  3.16605860e+01,  4.77360153e+01,\n",
       "       -4.51764342e+00,  4.63189581e+00,  5.14343274e+00,  2.73809066e+01,\n",
       "        2.10292227e+01,  3.12926361e+01,  2.15393075e+01,  1.13764356e+01,\n",
       "        2.51253104e+01,  5.34582289e+01,  5.52794977e+01,  4.01129336e+01,\n",
       "        3.55864466e+01,  2.66966267e+01,  3.70118337e+01, -5.56841955e+00,\n",
       "       -1.37555525e+00, -4.32549817e+00,  2.10396691e+01,  1.62399638e+01,\n",
       "        3.18540599e+01,  5.17116260e+01,  4.26338348e+01,  2.32801459e+01,\n",
       "        4.10791345e+01,  2.83371641e+01,  3.52966030e+01,  3.49859324e+01,\n",
       "       -2.79538812e+00,  2.13725089e+01,  1.82277410e+01, -8.40022125e+00,\n",
       "        8.97141299e+00,  3.61756238e+01, -1.18784635e+01,  2.53652549e+01,\n",
       "        4.30696146e+01,  3.46419909e+01, -7.22387461e+00,  5.10528801e+01,\n",
       "        6.04054850e+00,  3.20688380e+01,  4.46734608e+01,  3.32194940e+01,\n",
       "        4.51532595e+01,  5.04529653e+00,  1.78466223e+00,  3.39439912e+01,\n",
       "        3.17986568e+01,  4.17520097e+01,  4.93937444e+01, -2.20389577e+00,\n",
       "        3.18814405e+01,  9.85750555e-01,  1.34068963e+01,  4.35100862e+01,\n",
       "        2.25332097e+01,  5.65355267e+01,  1.22045787e+01,  3.17508868e+01,\n",
       "        2.54738834e+01,  5.75058214e+01,  3.95199078e+01,  3.12264038e+00,\n",
       "        5.26028588e+01,  2.03778620e+01,  2.69827204e+01,  3.81863616e+01,\n",
       "        1.77920654e+00,  4.77687228e+01,  4.84415362e+01,  4.67812078e+01,\n",
       "       -7.04316860e+00,  2.01414858e+01,  2.21376747e+01,  5.50969374e+01,\n",
       "        1.24211337e+01,  5.29931673e+01,  4.61159473e+01,  2.79449617e+01,\n",
       "        2.64624095e+01,  3.75208800e+01,  1.21403187e+01,  2.52034032e+01,\n",
       "        1.20882427e+01,  1.54317689e+01,  2.72809556e+01,  2.06351235e+01,\n",
       "        3.46366759e+01,  4.84224424e+01,  3.37691884e+01,  4.68213367e+01,\n",
       "       -6.90054633e+00,  3.98456404e+01,  2.30592325e+01,  2.62576245e+01,\n",
       "        4.29835382e+01,  2.86748580e+01,  3.25691216e+01, -6.53694500e+00,\n",
       "        3.58257238e+01,  3.70697923e+01,  9.81729024e+00,  2.39422747e+01,\n",
       "        2.43201315e+01,  4.22579113e+01,  1.60486860e+01,  3.37978904e+01,\n",
       "        4.26258955e+01,  4.21353875e+01,  3.28870445e+01,  4.01718371e+01,\n",
       "        4.68955055e+01, -7.87916931e+00,  3.62420593e+01,  4.04161345e+01,\n",
       "        3.28765395e+01, -1.42580126e+00,  4.72340389e+01,  3.83937029e+01,\n",
       "        4.01666941e+01,  1.63341052e+01,  8.47303564e+00,  1.13295212e+01,\n",
       "        3.88375341e+01,  5.09400709e+01,  1.86783325e+00,  5.46140354e+01,\n",
       "        1.40585167e+01,  1.79600191e+01,  5.10263623e+01, -1.59135108e+01,\n",
       "        6.36538584e+00,  1.06399814e+01,  2.83756981e+01,  3.68535812e+01,\n",
       "        4.06362749e+01, -5.32336974e+00, -8.55970224e+00,  1.52277818e+01,\n",
       "        3.15888662e+01,  3.57580110e+01,  4.09969176e+01, -1.09273474e+01,\n",
       "        6.21762607e+00,  4.48546730e+01, -2.62225545e+00,  2.44018093e+01,\n",
       "        1.66281948e+01,  1.81903997e+01,  2.47928884e+00,  3.44620476e+01,\n",
       "        1.95176661e+01,  3.35703384e+01,  3.95354121e+01,  3.50340871e+01,\n",
       "        5.07209640e+01, -1.02005315e+01,  4.69983219e+01,  5.33927263e+01,\n",
       "        1.90503659e+01,  1.50262023e+01,  1.62035562e+01,  1.86162614e+01,\n",
       "        2.46123587e+01,  3.16171795e+01,  1.83502464e+01,  2.58185679e+01,\n",
       "       -1.05076697e+00,  3.32186069e+01,  4.06935350e+01,  2.63371738e+01,\n",
       "        1.70414446e+01,  1.59931857e+01,  4.82179795e+01,  1.31872154e+01,\n",
       "        1.43669771e+01,  9.80493489e+00,  4.90321047e+01,  2.99041012e+01,\n",
       "        3.51319261e+01,  2.23269757e+01,  6.65339913e+01,  2.96560125e+01,\n",
       "        2.35793043e+01,  2.26322501e+00,  8.36100637e+00,  1.28917891e+01,\n",
       "        1.86465110e+01,  3.67471353e+01, -1.25708150e+01,  2.08668401e+00,\n",
       "        1.04896968e+01,  4.71668538e+01, -2.78199502e+00,  8.19633599e+00,\n",
       "        5.97776937e+01,  2.13523605e+00,  4.17669318e+01,  2.39087241e+01,\n",
       "        1.35044322e+01,  3.37107249e+01,  4.21389345e+01,  2.39477486e+01,\n",
       "        3.62332494e+01,  1.18307423e+01,  8.92474530e+00, -4.16298490e+00,\n",
       "        1.20098541e+00,  3.29944664e+01, -4.88994634e+00,  2.64020431e+01,\n",
       "       -2.04184555e+00,  2.42106014e+01, -1.30898034e+01, -1.86820490e+01,\n",
       "        1.32597851e+01,  3.93154785e-01,  2.16664148e+01, -9.31865259e-01,\n",
       "        3.90856733e+01,  4.64155839e+00,  6.06779505e+00,  1.22227113e+01,\n",
       "       -1.43036390e+00, -1.02970627e+00,  1.47782939e+01,  2.46709658e+01,\n",
       "        4.82263610e+01,  3.20644181e+01,  7.47699338e+00,  3.98537772e+01,\n",
       "        1.13729173e+01,  4.50756141e+01,  4.94220936e+01,  9.73263784e+00,\n",
       "        2.21674516e+01,  3.33935192e+01, -4.43993472e+00,  4.74872680e+01,\n",
       "        5.45359896e+01,  6.74137599e+00,  3.54740920e+01,  1.37130813e+01,\n",
       "        2.16665555e+01,  1.43109534e+01,  1.13064050e+01, -1.67520308e+00,\n",
       "        2.45734652e+01,  1.16940256e+01,  1.71141997e+01,  4.06885581e+01,\n",
       "        2.27714103e+01, -1.68672164e+01,  3.23447545e+01,  9.71033721e+00,\n",
       "        1.50054073e+01,  3.98835187e+01,  2.35700910e+00,  1.15799307e+01,\n",
       "        5.75752141e+01,  1.71986226e+01,  1.66331870e+01,  1.43509166e+01,\n",
       "        1.44352028e+01,  1.03429409e+01,  2.78142272e+01,  3.23527228e+01,\n",
       "        2.66334956e+01,  3.51469676e+01,  2.39470971e+01,  3.87769962e+01,\n",
       "       -1.47202494e+00,  2.70095051e+01,  6.00796515e+01,  4.09522472e+01,\n",
       "        1.12549038e+01,  2.46627230e+01,  5.39060723e+00,  2.17574994e+01,\n",
       "        3.14321758e+01, -1.97341616e+01,  3.91948261e+01,  1.02381981e+00,\n",
       "        1.99293219e+01,  9.76178922e+00,  1.36450825e+01,  2.05027732e+01,\n",
       "        5.20659810e+01,  3.92172930e+01,  2.80779142e+01,  2.06416894e+01,\n",
       "        5.46989009e+01,  4.17257346e+01,  9.92039391e+00,  2.31856036e+01,\n",
       "        8.38093100e+00, -1.03755454e+00,  2.26578491e+01,  3.36739494e+01,\n",
       "        2.60115246e+01,  1.47460019e+01,  4.46133041e+01,  3.92441504e+01,\n",
       "        1.98903951e+01,  5.12831089e+01,  4.03794487e+00,  3.71011058e+01,\n",
       "        6.86815615e+00,  3.34884428e+01,  1.29798010e+01,  1.22279929e+01,\n",
       "        2.96655605e+01,  1.03825001e+01, -2.73710153e-01,  4.46486970e+01,\n",
       "        6.03620340e+01,  6.77159822e+00,  1.27821462e+01,  1.90975093e+01,\n",
       "        2.92456432e+01,  2.95164944e+01,  3.55779574e+01,  2.08473824e+01,\n",
       "        4.36426216e+01,  2.93795995e+01,  1.95156882e+01,  1.28016613e+01,\n",
       "        1.33058260e+01,  3.18791618e+01,  3.15226529e+01, -5.41920363e+00,\n",
       "        2.93366231e+01,  3.96293903e+00,  1.51507508e+01,  3.70180208e+01,\n",
       "       -4.18525703e+00,  1.50880943e+01,  4.33744553e+01,  1.85477209e+01,\n",
       "        1.87652771e+01,  3.10400488e+01,  3.56765126e+01,  3.39176255e+01,\n",
       "        2.48781304e+01,  2.51204911e+01,  5.68177388e+01,  2.85891018e+01,\n",
       "        1.99352089e+01, -5.30070247e+00,  2.38673346e+01,  1.05160455e+01,\n",
       "        1.47600354e+01,  5.05350462e+00,  2.83033206e+01,  1.95111863e+01,\n",
       "        8.57891708e+00,  2.24529076e+01,  1.46596383e+01,  3.16357262e+01,\n",
       "        3.72636600e+01,  3.67808075e+01,  5.30296601e+01,  1.41415815e+01,\n",
       "        1.76664439e+01,  4.88941641e+01,  2.72724995e+00,  3.03030668e+01,\n",
       "       -1.46510465e+01,  3.29403118e+01,  1.88203815e+01,  3.15995264e+01,\n",
       "        3.58322785e+01,  3.67327716e+01,  1.95185297e+01,  3.97966482e+01,\n",
       "        2.70199860e+01,  1.38063540e+01,  6.95396685e+00,  2.45401616e+01,\n",
       "        2.02806802e+01,  2.87579773e+01,  2.12753297e+01,  4.36714796e+01,\n",
       "        2.88142841e+01,  1.69196151e+01,  3.53187003e+00,  1.91786815e+01,\n",
       "        4.75207556e+01,  3.26441670e+01,  2.73268423e+01,  2.65581533e+01,\n",
       "        2.80948757e+00,  2.30622862e+01,  5.20377074e+01,  5.95760650e+01,\n",
       "        1.22850202e+01,  8.53375530e+00,  3.15674939e+01,  5.40208247e+01,\n",
       "        2.10938994e+01,  4.17990938e+01, -3.02979686e+00,  2.97229288e+01,\n",
       "        2.24912659e+01,  2.84817368e+01,  4.59737740e+01,  3.09782673e+01,\n",
       "        3.24228090e+01,  3.22981788e+01,  3.71957116e+01,  1.49198456e+01,\n",
       "        1.71183229e+01,  3.32177935e+00,  5.25288477e+01,  2.93966928e+01,\n",
       "        1.80003384e+01,  2.32996148e+00,  2.37179958e+01,  6.87402048e+00,\n",
       "        3.10789827e+01, -4.56948480e+00,  3.47711753e+01,  2.77794566e+00])"
      ]
     },
     "execution_count": 13,
     "metadata": {},
     "output_type": "execute_result"
    }
   ],
   "source": [
    "# Positive Correlation with some noise\n",
    "y = x + np.random.normal(0,10,1000)\n",
    "y"
   ]
  },
  {
   "cell_type": "code",
   "execution_count": 14,
   "metadata": {},
   "outputs": [
    {
     "name": "stdout",
     "output_type": "stream",
     "text": [
      "coorcoeffs:\n",
      "(0.8000757845933794, 1.0491312831643689e-223)\n"
     ]
    }
   ],
   "source": [
    "corrcoeffs=stats.pearsonr(x,y)\n",
    "print(\"coorcoeffs:\")\n",
    "print(corrcoeffs)"
   ]
  },
  {
   "cell_type": "code",
   "execution_count": 15,
   "metadata": {},
   "outputs": [
    {
     "data": {
      "image/png": "[encoded data removed]",
      "text/plain": [
       "<Figure size 432x288 with 1 Axes>"
      ]
     },
     "metadata": {},
     "output_type": "display_data"
    }
   ],
   "source": [
    "plt.scatter(x,y)\n",
    "plt.show()"
   ]
  },
  {
   "cell_type": "markdown",
   "metadata": {},
   "source": [
    "Negative Correlation"
   ]
  },
  {
   "cell_type": "code",
   "execution_count": 16,
   "metadata": {},
   "outputs": [],
   "source": [
    "# Negative Correlation with some noise\n",
    "y = 100-(x + np.random.normal(0,10,1000))"
   ]
  },
  {
   "cell_type": "code",
   "execution_count": 17,
   "metadata": {},
   "outputs": [
    {
     "name": "stdout",
     "output_type": "stream",
     "text": [
      "corrcoeffs:\n",
      "SpearmanrResult(correlation=-0.8321434543567329, pvalue=8.767095881419733e-258)\n"
     ]
    }
   ],
   "source": [
    "corrcoeffs=stats.spearmanr(x,y)\n",
    "print(\"corrcoeffs:\")\n",
    "print(corrcoeffs)"
   ]
  },
  {
   "cell_type": "code",
   "execution_count": 18,
   "metadata": {},
   "outputs": [
    {
     "data": {
      "image/png": "[encoded data removed]",
      "text/plain": [
       "<Figure size 432x288 with 1 Axes>"
      ]
     },
     "metadata": {},
     "output_type": "display_data"
    }
   ],
   "source": [
    "plt.scatter(x,y)\n",
    "plt.show()"
   ]
  },
  {
   "cell_type": "code",
   "execution_count": 19,
   "metadata": {},
   "outputs": [],
   "source": [
    "x = np.random.randint(0,50,1000)\n",
    "y = np.random.randint(0,50,1000)"
   ]
  },
  {
   "cell_type": "code",
   "execution_count": 20,
   "metadata": {},
   "outputs": [
    {
     "name": "stdout",
     "output_type": "stream",
     "text": [
      "corrcoeffs:\n",
      "SpearmanrResult(correlation=0.01906829013860372, pvalue=0.5469792102077475)\n"
     ]
    }
   ],
   "source": [
    "corrcoeffs=stats.spearmanr(x,y)\n",
    "print(\"corrcoeffs:\")\n",
    "print(corrcoeffs)"
   ]
  },
  {
   "cell_type": "code",
   "execution_count": 21,
   "metadata": {
    "scrolled": true
   },
   "outputs": [
    {
     "data": {
      "image/png": "[encoded data removed]",
      "text/plain": [
       "<Figure size 432x288 with 1 Axes>"
      ]
     },
     "metadata": {},
     "output_type": "display_data"
    }
   ],
   "source": [
    "plt.scatter(x,y)\n",
    "plt.show()"
   ]
  }
 ],
 "metadata": {
  "kernelspec": {
   "display_name": "Python 3",
   "language": "python",
   "name": "python3"
  },
  "language_info": {
   "codemirror_mode": {
    "name": "ipython",
    "version": 3
   },
   "file_extension": ".py",
   "mimetype": "text/x-python",
   "name": "python",
   "nbconvert_exporter": "python",
   "pygments_lexer": "ipython3",
   "version": "3.6.7"
  }
 },
 "nbformat": 4,
 "nbformat_minor": 2
}
