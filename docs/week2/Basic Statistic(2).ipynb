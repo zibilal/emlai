{
 "cells": [
  {
   "cell_type": "code",
   "execution_count": 1,
   "metadata": {},
   "outputs": [],
   "source": [
    "import numpy as np\n",
    "from scipy import stats"
   ]
  },
  {
   "cell_type": "code",
   "execution_count": 2,
   "metadata": {},
   "outputs": [],
   "source": [
    "import matplotlib\n",
    "import matplotlib.pyplot as plt"
   ]
  },
  {
   "cell_type": "code",
   "execution_count": 3,
   "metadata": {},
   "outputs": [],
   "source": [
    "np.random.seed(1)"
   ]
  },
  {
   "cell_type": "code",
   "execution_count": 4,
   "metadata": {},
   "outputs": [
    {
     "name": "stdout",
     "output_type": "stream",
     "text": [
      "data: \n",
      "[18.  7.  7.  5. 14. -2. 19.  6. 12.  9. 17. -0.  8.  8. 16.  5.  9.  6.\n",
      " 10. 13.  4. 16. 15. 13. 15.  7.  9.  5.  9. 13.  7.  8.  7.  6.  7. 10.\n",
      "  4. 11. 18. 14.  9.  6.  6. 18. 10.  7. 11. 21. 11. 13. 12.  8.  4.  8.\n",
      "  9. 13. 14. 15. 11. 14.  6. 16. 13.  9. 12. 10. 16. 18. 21.  3.  3.  7.\n",
      " 11. 14. 12. -0.  8. 14. 11. 14.  9.  9. 11. 12. 11. 11.  7. 12. 11. 16.\n",
      " 16. 11.  8.  7. 12. 10.  8. 10.  7. 13.]\n"
     ]
    }
   ],
   "source": [
    "data = np.round(np.random.normal(10, 5, 100))\n",
    "print(\"data: \")\n",
    "print(data)"
   ]
  },
  {
   "cell_type": "code",
   "execution_count": 5,
   "metadata": {},
   "outputs": [
    {
     "data": {
      "text/plain": [
       "10.34"
      ]
     },
     "execution_count": 5,
     "metadata": {},
     "output_type": "execute_result"
    }
   ],
   "source": [
    "mean = np.mean(data)\n",
    "mean"
   ]
  },
  {
   "cell_type": "code",
   "execution_count": 7,
   "metadata": {},
   "outputs": [
    {
     "data": {
      "text/plain": [
       "10.0"
      ]
     },
     "execution_count": 7,
     "metadata": {},
     "output_type": "execute_result"
    }
   ],
   "source": [
    "median = np.median(data)\n",
    "median"
   ]
  },
  {
   "cell_type": "code",
   "execution_count": 8,
   "metadata": {},
   "outputs": [
    {
     "data": {
      "text/plain": [
       "ModeResult(mode=array([7.]), count=array([11]))"
      ]
     },
     "execution_count": 8,
     "metadata": {},
     "output_type": "execute_result"
    }
   ],
   "source": [
    "mode = stats.mode(data)\n",
    "mode"
   ]
  },
  {
   "cell_type": "code",
   "execution_count": 9,
   "metadata": {},
   "outputs": [
    {
     "data": {
      "text/plain": [
       "19.824400000000004"
      ]
     },
     "execution_count": 9,
     "metadata": {},
     "output_type": "execute_result"
    }
   ],
   "source": [
    "var = np.var(data)\n",
    "var"
   ]
  },
  {
   "cell_type": "code",
   "execution_count": 10,
   "metadata": {},
   "outputs": [
    {
     "data": {
      "text/plain": [
       "4.452459994205451"
      ]
     },
     "execution_count": 10,
     "metadata": {},
     "output_type": "execute_result"
    }
   ],
   "source": [
    "std = np.std(data)\n",
    "std"
   ]
  },
  {
   "cell_type": "code",
   "execution_count": 17,
   "metadata": {},
   "outputs": [
    {
     "data": {
      "image/png": "[encoded data removed]",
      "text/plain": [
       "<Figure size 432x288 with 1 Axes>"
      ]
     },
     "metadata": {},
     "output_type": "display_data"
    }
   ],
   "source": [
    "matplotlib.style.use('ggplot')\n",
    "plt.hist(data, bins=20, range=(0,20), edgecolor='black');"
   ]
  },
  {
   "cell_type": "markdown",
   "metadata": {},
   "source": [
    "__Correlation__"
   ]
  },
  {
   "cell_type": "code",
   "execution_count": 18,
   "metadata": {},
   "outputs": [
    {
     "data": {
      "text/plain": [
       "array([33,  2, 20, 19, 48, 32, 28, 18, 31, 28, 30, 10,  8, 45, 35, 32,  8,\n",
       "       20, 13, 15, 41,  0, 44, 19, 24, 49, 42, 20, 44, 15, 30, 27, 14, 19,\n",
       "       26, 43, 22,  7, 35, 47, 46, 34, 36, 36, 32, 19,  3, 24, 19, 37, 30,\n",
       "       38, 47, 39,  5, 15, 49, 23, 32, 42, 10,  2, 24, 34, 30, 17,  4,  0,\n",
       "       14, 17, 39, 35, 17, 28, 22, 38, 41, 10, 13,  6, 25, 38, 48, 48, 44,\n",
       "       41,  0, 22, 16, 19,  9, 48, 28, 47, 10,  4, 23, 14, 21, 46])"
      ]
     },
     "execution_count": 18,
     "metadata": {},
     "output_type": "execute_result"
    }
   ],
   "source": [
    "x = np.random.randint(0, 50, 100)\n",
    "x"
   ]
  },
  {
   "cell_type": "code",
   "execution_count": 21,
   "metadata": {},
   "outputs": [
    {
     "data": {
      "text/plain": [
       "array([116.22518944,  67.35388476,  91.28886371,  84.8029635 ,\n",
       "        58.75107991,  45.14192565, 101.85499244,  36.36823689,\n",
       "       -59.84321412,   9.7860266 ,  -8.25763394,  86.50242977,\n",
       "        27.1063378 ,  18.05678319,   9.76149892, 123.41400259,\n",
       "       -46.30071907,  52.66501538,   4.69685068,  14.93084946,\n",
       "        60.43737743,  36.67936895,  54.66573432,  -4.73225907,\n",
       "        67.23614883,  72.63572699, 125.05701034, 117.27192838,\n",
       "       -27.74783211, -51.65730975,  31.72236178,  67.95012468,\n",
       "       -54.58167176, 180.83143165,  62.29055355,  40.72266748,\n",
       "        35.0099449 ,   1.93298321, 105.03380834,  60.42530078,\n",
       "         8.13682907,  12.22534699, -31.75740366,  72.60359031,\n",
       "       -38.13212998, -45.47231204,  58.41508051,  54.9857306 ,\n",
       "       -32.36330671,  -2.33984007,   5.58658813,  55.96224632,\n",
       "        38.10525364, -35.81364036,  80.72094555,  12.814955  ,\n",
       "       -14.38921506,  13.21001149, -27.9165125 ,  38.78181269,\n",
       "        -5.54161891, -52.81385165,  36.17686147, -34.64411127,\n",
       "         6.52119944, -49.89698369, -52.20279381, -20.86138968,\n",
       "       117.54132394, -48.03803395, 107.76789858, -18.37320859,\n",
       "        24.18461747,  74.04457128, 102.47540822,  77.39252805,\n",
       "        31.24115921,  10.71361618,  46.31303336, -34.68682767,\n",
       "        92.03284201,  10.37353801,  47.77346154,  49.87662713,\n",
       "         8.20576541, 110.19300573, -47.59605969,  -2.22071913,\n",
       "       -41.29391421, -40.55088834,  42.11906161,  37.91272223,\n",
       "        23.1219762 ,  91.41685645,  55.52931413, -43.01602309,\n",
       "        27.77200316, -53.801568  , -30.88833105,  83.82439341])"
      ]
     },
     "execution_count": 21,
     "metadata": {},
     "output_type": "execute_result"
    }
   ],
   "source": [
    "y = x + np.random.normal(0, 50, 100) # noise distribusi normal\n",
    "y"
   ]
  },
  {
   "cell_type": "code",
   "execution_count": 22,
   "metadata": {},
   "outputs": [
    {
     "data": {
      "text/plain": [
       "(0.25026194913151717, 0.012030338636600253)"
      ]
     },
     "execution_count": 22,
     "metadata": {},
     "output_type": "execute_result"
    }
   ],
   "source": [
    "corrcoeffs = stats.pearsonr(x,y)\n",
    "corrcoeffs"
   ]
  },
  {
   "cell_type": "code",
   "execution_count": 23,
   "metadata": {},
   "outputs": [
    {
     "data": {
      "image/png": "[encoded data removed]",
      "text/plain": [
       "<Figure size 432x288 with 1 Axes>"
      ]
     },
     "metadata": {},
     "output_type": "display_data"
    }
   ],
   "source": [
    "plt.scatter(x,y)\n",
    "plt.show()"
   ]
  },
  {
   "cell_type": "code",
   "execution_count": null,
   "metadata": {},
   "outputs": [],
   "source": []
  }
 ],
 "metadata": {
  "kernelspec": {
   "display_name": "Python 3",
   "language": "python",
   "name": "python3"
  },
  "language_info": {
   "codemirror_mode": {
    "name": "ipython",
    "version": 3
   },
   "file_extension": ".py",
   "mimetype": "text/x-python",
   "name": "python",
   "nbconvert_exporter": "python",
   "pygments_lexer": "ipython3",
   "version": "3.6.7"
  }
 },
 "nbformat": 4,
 "nbformat_minor": 2
}
