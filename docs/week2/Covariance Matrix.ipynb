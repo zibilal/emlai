{
 "cells": [
  {
   "cell_type": "code",
   "execution_count": 1,
   "metadata": {},
   "outputs": [],
   "source": [
    "import numpy as np"
   ]
  },
  {
   "cell_type": "code",
   "execution_count": 2,
   "metadata": {},
   "outputs": [
    {
     "name": "stdout",
     "output_type": "stream",
     "text": [
      "[[ 1  1 10  2  4]\n",
      " [ 2  3 20  5  5]\n",
      " [ 3  5 30  5  6]\n",
      " [ 4  7 40  2  7]\n",
      " [ 5  9 50  1  8]\n",
      " [ 6 11 60  0  9]]\n"
     ]
    }
   ],
   "source": [
    "# Create column vectors\n",
    "a = np.array((1,2,3,4,5,6))\n",
    "b = np.array((1,3,5,7,9,11))\n",
    "c = np.array((10,20,30,40,50,60))\n",
    "d = np.array((2,5,5,2,1,0))\n",
    "e = np.array((4,5,6,7,8,9))\n",
    " \n",
    "# Create matrix from vectors\n",
    "M = np.matrix((a,b,c,d,e))\n",
    "M = M.transpose() #Re-Aligning Rows as Columns\n",
    "k = np.size(M,1) #Columns\n",
    "n = np.size(M,0) #Rows\n",
    "print(M)"
   ]
  },
  {
   "cell_type": "code",
   "execution_count": 3,
   "metadata": {},
   "outputs": [
    {
     "name": "stdout",
     "output_type": "stream",
     "text": [
      "[[ -2.5  -5.  -25.   -0.5  -2.5]\n",
      " [ -1.5  -3.  -15.    2.5  -1.5]\n",
      " [ -0.5  -1.   -5.    2.5  -0.5]\n",
      " [  0.5   1.    5.   -0.5   0.5]\n",
      " [  1.5   3.   15.   -1.5   1.5]\n",
      " [  2.5   5.   25.   -2.5   2.5]]\n"
     ]
    }
   ],
   "source": [
    "# Find the mean for each column\n",
    "k_mean = M.mean(0)\n",
    " \n",
    "# Create a difference matrix\n",
    "diffm = M - k_mean\n",
    "print(diffm)"
   ]
  },
  {
   "cell_type": "code",
   "execution_count": 4,
   "metadata": {},
   "outputs": [
    {
     "name": "stdout",
     "output_type": "stream",
     "text": [
      "[[  3.5   7.   35.   -2.5   3.5]\n",
      " [  7.   14.   70.   -5.    7. ]\n",
      " [ 35.   70.  350.  -25.   35. ]\n",
      " [ -2.5  -5.  -25.    4.3  -2.5]\n",
      " [  3.5   7.   35.   -2.5   3.5]]\n"
     ]
    }
   ],
   "source": [
    "#Create Covariance Matrix\n",
    "n_inv = (n-1)**-1\n",
    "product = n_inv * diffm\n",
    "diffmt = product.transpose()\n",
    "covarM = np.dot(diffmt, diffm)\n",
    "print(covarM)"
   ]
  },
  {
   "cell_type": "code",
   "execution_count": 5,
   "metadata": {},
   "outputs": [
    {
     "name": "stdout",
     "output_type": "stream",
     "text": [
      "[  3.5  14.  350.    4.3   3.5]\n"
     ]
    }
   ],
   "source": [
    "#Find variances from the covariance matrix\n",
    "variance = np.diagonal(covarM)\n",
    "print(variance)"
   ]
  },
  {
   "cell_type": "code",
   "execution_count": 6,
   "metadata": {},
   "outputs": [
    {
     "name": "stdout",
     "output_type": "stream",
     "text": [
      "[[  3.5   7.   35.   -2.5   3.5]\n",
      " [  7.   14.   70.   -5.    7. ]\n",
      " [ 35.   70.  350.  -25.   35. ]\n",
      " [ -2.5  -5.  -25.    4.3  -2.5]\n",
      " [  3.5   7.   35.   -2.5   3.5]]\n"
     ]
    }
   ],
   "source": [
    "#Numpy's Built-in function\n",
    "print(np.cov(M.T))"
   ]
  },
  {
   "cell_type": "code",
   "execution_count": 7,
   "metadata": {},
   "outputs": [
    {
     "name": "stdout",
     "output_type": "stream",
     "text": [
      "[  3.5  14.  350.    4.3   3.5]\n"
     ]
    }
   ],
   "source": [
    "print(np.cov(M.T).diagonal())"
   ]
  }
 ],
 "metadata": {
  "kernelspec": {
   "display_name": "Python 3",
   "language": "python",
   "name": "python3"
  },
  "language_info": {
   "codemirror_mode": {
    "name": "ipython",
    "version": 3
   },
   "file_extension": ".py",
   "mimetype": "text/x-python",
   "name": "python",
   "nbconvert_exporter": "python",
   "pygments_lexer": "ipython3",
   "version": "3.6.7"
  }
 },
 "nbformat": 4,
 "nbformat_minor": 2
}
