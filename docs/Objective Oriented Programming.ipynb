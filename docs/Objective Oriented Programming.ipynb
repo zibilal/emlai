{
 "cells": [
  {
   "cell_type": "code",
   "execution_count": 14,
   "metadata": {},
   "outputs": [],
   "source": [
    "class MyClass(object):\n",
    "    \n",
    "    def __init__(self,nama,lantai):\n",
    "        self.nama = nama\n",
    "        self.lantai = lantai\n",
    "        print(\"Kelas pertama saya!\")\n",
    "        \n",
    "    def get_jumlah_murid(self,jumlah):\n",
    "        print(\"Jumlah murid adalah {}\".format(jumlah))\n",
    "        \n",
    "    def func1():\n",
    "        pass\n",
    "    \n",
    "    def func2():\n",
    "        pass"
   ]
  },
  {
   "cell_type": "code",
   "execution_count": 11,
   "metadata": {},
   "outputs": [
    {
     "name": "stdout",
     "output_type": "stream",
     "text": [
      "Kelas pertama saya!\n"
     ]
    }
   ],
   "source": [
    "myclass = MyClass(\"XI IPA 2\",\"3\")"
   ]
  },
  {
   "cell_type": "code",
   "execution_count": 8,
   "metadata": {},
   "outputs": [
    {
     "data": {
      "text/plain": [
       "'XI IPA 2'"
      ]
     },
     "execution_count": 8,
     "metadata": {},
     "output_type": "execute_result"
    }
   ],
   "source": [
    "myclass.nama"
   ]
  },
  {
   "cell_type": "code",
   "execution_count": 9,
   "metadata": {},
   "outputs": [
    {
     "data": {
      "text/plain": [
       "'3'"
      ]
     },
     "execution_count": 9,
     "metadata": {},
     "output_type": "execute_result"
    }
   ],
   "source": [
    "myclass.lantai"
   ]
  },
  {
   "cell_type": "code",
   "execution_count": 12,
   "metadata": {
    "scrolled": true
   },
   "outputs": [
    {
     "name": "stdout",
     "output_type": "stream",
     "text": [
      "Jumlah murid adalah 45\n"
     ]
    }
   ],
   "source": [
    "myclass.get_jumlah_murid(45)"
   ]
  },
  {
   "cell_type": "code",
   "execution_count": 15,
   "metadata": {},
   "outputs": [],
   "source": [
    "from math import pow\n",
    "from copy import deepcopy"
   ]
  },
  {
   "cell_type": "code",
   "execution_count": 37,
   "metadata": {},
   "outputs": [],
   "source": [
    "class Matrix(object):\n",
    "    def __init__(self,values):\n",
    "        try:\n",
    "            if not values:\n",
    "                raise ValueError\n",
    "        \n",
    "  \n",
    "            for x in range(len(values)-1):\n",
    "                if not len(values[x]) == len(values[x+1]):\n",
    "                    raise ValueError\n",
    "              \n",
    "            self.values = list(values) \n",
    "            self.m = len(values) \n",
    "            self.n = len(self.values[0]) \n",
    "            self.order = (self.m,self.n) \n",
    "            \n",
    "        except ValueError:\n",
    "            raise ValueError('Matriks tidak boleh kosong dan jumlah kolom ber baris harus sama')\n",
    "            \n",
    "    def __str__(self):\n",
    "        a = \"\\n\" \n",
    "        for x in range(self.m):\n",
    "            for y in range(self.n):\n",
    "                a = a + str(self.values[x][y]) + \" \"\n",
    "            a = a + \"\\n\"\n",
    "        return a\n",
    "    \n",
    "    def __getitem__(self,key):\n",
    "        return self.values[key] \n",
    "\n",
    "    def __eq__(self,v):\n",
    "           return self.values == v.values    \n",
    "   \n",
    "    def transpose(self):\n",
    "        return Matrix([[self[j][i] for j in range(self.m)]for i in range(self.n)])\n",
    "\n",
    "   \n",
    "    #### FUNGSI MATRIX ####\n",
    "    def plus(self, v):\n",
    "        try:\n",
    "            if not self.order == v.order:\n",
    "                raise ValueError\n",
    "\n",
    "            new_values = [[self[i][j] + v[i][j] for j in range(self.n)] for i in \n",
    "                          range(self.m)]\n",
    "            return Matrix(new_values)\n",
    "\n",
    "        except ValueError:\n",
    "            raise ValueError('Order matriks harus sama')\n",
    "            \n",
    "    def minus(self, v):\n",
    "        try:\n",
    "            if not self.order == v.order:\n",
    "                raise ValueError\n",
    "\n",
    "            new_values = [[self[i][j] - v[i][j] for j in range(self.n)] for i in \n",
    "                          range(self.m)]\n",
    "            return Matrix(new_values)\n",
    "\n",
    "        except ValueError:\n",
    "            raise ValueError('Order matriks harus sama')        \n",
    "    \n",
    "    \n",
    "    def times_scalar(self, c):\n",
    "        new_values = [[c * self[i][j] for j in range(self.n)] for i in \n",
    "                       range(self.m)]\n",
    "        return Matrix(new_values)\n",
    "    \n",
    "    def dot(self, v):\n",
    "        pass\n",
    "    \n",
    "    def times_Matrix(self, v):\n",
    "        pass"
   ]
  },
  {
   "cell_type": "code",
   "execution_count": 38,
   "metadata": {},
   "outputs": [
    {
     "name": "stdout",
     "output_type": "stream",
     "text": [
      "Matriks A \n",
      "1 2 1 1 \n",
      "3 4 5 6 \n",
      "\n",
      "\n",
      "\n",
      "Matriks B \n",
      "2 3 4 4 \n",
      "3 3 2 1 \n",
      "\n"
     ]
    }
   ],
   "source": [
    "# Define a Matrix\n",
    "z = Matrix([[1,2,1,1],[3,4,5,6]])\n",
    "x = Matrix([[2,3,4,4],[3,3,2,1]])\n",
    "print('Matriks A',z)\n",
    "print('\\n')\n",
    "print('Matriks B',x)"
   ]
  },
  {
   "cell_type": "code",
   "execution_count": 39,
   "metadata": {},
   "outputs": [
    {
     "name": "stdout",
     "output_type": "stream",
     "text": [
      "Penjumlahan:\n",
      "\n",
      "\n",
      "3 5 5 5 \n",
      "6 7 7 7 \n",
      "\n",
      "Pengurangan:\n",
      "\n",
      "\n",
      "-1 -1 -3 -3 \n",
      "0 1 3 5 \n",
      "\n",
      "Perkalian skalar:\n",
      "\n",
      "\n",
      "2 4 2 2 \n",
      "6 8 10 12 \n",
      "\n"
     ]
    }
   ],
   "source": [
    "print('Penjumlahan:\\n')\n",
    "print(z.plus(x))\n",
    "print('Pengurangan:\\n')\n",
    "print(z.minus(x))\n",
    "print('Perkalian skalar:\\n')\n",
    "print(z.times_scalar(2))"
   ]
  },
  {
   "cell_type": "code",
   "execution_count": null,
   "metadata": {},
   "outputs": [],
   "source": []
  }
 ],
 "metadata": {
  "kernelspec": {
   "display_name": "Python 3",
   "language": "python",
   "name": "python3"
  },
  "language_info": {
   "codemirror_mode": {
    "name": "ipython",
    "version": 3
   },
   "file_extension": ".py",
   "mimetype": "text/x-python",
   "name": "python",
   "nbconvert_exporter": "python",
   "pygments_lexer": "ipython3",
   "version": "3.6.7"
  }
 },
 "nbformat": 4,
 "nbformat_minor": 2
}
