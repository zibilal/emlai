{
 "cells": [
  {
   "cell_type": "markdown",
   "metadata": {},
   "source": [
    "__STRING__"
   ]
  },
  {
   "cell_type": "code",
   "execution_count": 1,
   "metadata": {},
   "outputs": [],
   "source": [
    "s ='hello'\n",
    "# Reverse the string menggunakan slicing\n",
    "\n"
   ]
  },
  {
   "cell_type": "markdown",
   "metadata": {},
   "source": [
    "Gunakan 2 metode untuk dapatkan huruf o"
   ]
  },
  {
   "cell_type": "code",
   "execution_count": 2,
   "metadata": {},
   "outputs": [
    {
     "data": {
      "text/plain": [
       "'o'"
      ]
     },
     "execution_count": 2,
     "metadata": {},
     "output_type": "execute_result"
    }
   ],
   "source": [
    "s ='hello'\n",
    "\n",
    "# Method 1:\n",
    "\n"
   ]
  },
  {
   "cell_type": "code",
   "execution_count": 3,
   "metadata": {},
   "outputs": [
    {
     "data": {
      "text/plain": [
       "'o'"
      ]
     },
     "execution_count": 3,
     "metadata": {},
     "output_type": "execute_result"
    }
   ],
   "source": [
    "# Method 2:\n",
    "\n"
   ]
  },
  {
   "cell_type": "markdown",
   "metadata": {},
   "source": [
    "__LIST__"
   ]
  },
  {
   "cell_type": "markdown",
   "metadata": {},
   "source": [
    "Buat list [10,10,10] dengan 2 metode"
   ]
  },
  {
   "cell_type": "code",
   "execution_count": 4,
   "metadata": {},
   "outputs": [
    {
     "data": {
      "text/plain": [
       "[10, 10, 10]"
      ]
     },
     "execution_count": 4,
     "metadata": {},
     "output_type": "execute_result"
    }
   ],
   "source": [
    "# Method 1:\n"
   ]
  },
  {
   "cell_type": "code",
   "execution_count": 5,
   "metadata": {},
   "outputs": [
    {
     "data": {
      "text/plain": [
       "[10, 10, 10]"
      ]
     },
     "execution_count": 5,
     "metadata": {},
     "output_type": "execute_result"
    }
   ],
   "source": [
    "# Method 2:\n"
   ]
  },
  {
   "cell_type": "markdown",
   "metadata": {},
   "source": [
    "Reassign 'jakarta' dalam nested list dengan 'bandung'"
   ]
  },
  {
   "cell_type": "code",
   "execution_count": 6,
   "metadata": {},
   "outputs": [],
   "source": [
    "list3 = [1,4,[200,[20,30,50,\"jakarta\"]]]"
   ]
  },
  {
   "cell_type": "code",
   "execution_count": 7,
   "metadata": {},
   "outputs": [],
   "source": []
  },
  {
   "cell_type": "code",
   "execution_count": 8,
   "metadata": {},
   "outputs": [
    {
     "data": {
      "text/plain": [
       "[1, 4, [200, [20, 30, 50, 'bandung']]]"
      ]
     },
     "execution_count": 8,
     "metadata": {},
     "output_type": "execute_result"
    }
   ],
   "source": [
    "list3"
   ]
  },
  {
   "cell_type": "markdown",
   "metadata": {},
   "source": [
    "__DICTIONARIES__"
   ]
  },
  {
   "cell_type": "markdown",
   "metadata": {},
   "source": [
    "Menggunakan keys and indexing, ambil harga Handphone super"
   ]
  },
  {
   "cell_type": "code",
   "execution_count": 9,
   "metadata": {},
   "outputs": [],
   "source": [
    "dict1 = \\\n",
    "{   \n",
    "    \"metadata\": [\n",
    "        {\n",
    "            \"perusahaan\": {\n",
    "                \"nama\": \"Setiabudi\",\n",
    "                \"cabang\": \"Setiabudi cabang Jakarta\",\n",
    "                \"lokasi\": [\n",
    "                    {\n",
    "                        \"koordinat1\": (-10.3207013, 80.5809298),\n",
    "                        \"koordinat2\": (20.3207013, 120.5809298)\n",
    "                    }\n",
    "                ]\n",
    "            },\n",
    "            \"income\": {\n",
    "                \"this year\": 15505863,\n",
    "                \"average\": 8230250,\n",
    "            },\n",
    "            \"barang\": [\n",
    "                {\n",
    "                    \"name\": \"Handphone super\",\n",
    "                    \"harga\": 800,\n",
    "                    \"stock\": 1000\n",
    "                },\n",
    "                {\n",
    "                    \"name\": \"Laptop super\",\n",
    "                    \"harga\": 1000,\n",
    "                    \"stock\": 2000 \n",
    "                }\n",
    "            ]\n",
    "        }\n",
    "    ]\n",
    "}"
   ]
  },
  {
   "cell_type": "code",
   "execution_count": 10,
   "metadata": {},
   "outputs": [
    {
     "data": {
      "text/plain": [
       "800"
      ]
     },
     "execution_count": 10,
     "metadata": {},
     "output_type": "execute_result"
    }
   ],
   "source": []
  },
  {
   "cell_type": "markdown",
   "metadata": {},
   "source": [
    "__SET__"
   ]
  },
  {
   "cell_type": "markdown",
   "metadata": {},
   "source": [
    "Ada berapa kota dalam sini? \n",
    "Tampilkan kota-kotanya."
   ]
  },
  {
   "cell_type": "code",
   "execution_count": 11,
   "metadata": {},
   "outputs": [],
   "source": [
    "daftar_kota = [\n",
    "    \"Jakarta\",\n",
    "    \"Jakarta\",\n",
    "    \"Jakarta\",\n",
    "    \"Bogor\",\n",
    "    \"Bogor\",\n",
    "    \"Bogor\",\n",
    "    \"Jakarta\",\n",
    "    \"Jakarta\",\n",
    "    \"Bandung\",\n",
    "    \"Bandung\",\n",
    "    \"Bandung\",\n",
    "    \"Bandung\",\n",
    "    \"Bandung\",\n",
    "    \"Semarang\",\n",
    "    \"Semarang\",\n",
    "    \"Medan\",\n",
    "    \"Pontianak\",\n",
    "    \"Jakarta\",\n",
    "    \"Jakarta\",\n",
    "    \"Bandung\",\n",
    "    \"Surabaya\",\n",
    "    \"Surabaya\",\n",
    "    \"Surabaya\",\n",
    "    \"Surabaya\",\n",
    "    \"Jakarta\",\n",
    "    \"Jakarta\",\n",
    "    \"Bali\",\n",
    "    \"Bali\",\n",
    "    \"Bali\",\n",
    "    \"Makassar\",\n",
    "    \"Makassar\",\n",
    "    \"Bandung\",\n",
    "    \"Bandung\",\n",
    "]"
   ]
  }
 ],
 "metadata": {
  "kernelspec": {
   "display_name": "Python 3",
   "language": "python",
   "name": "python3"
  },
  "language_info": {
   "codemirror_mode": {
    "name": "ipython",
    "version": 3
   },
   "file_extension": ".py",
   "mimetype": "text/x-python",
   "name": "python",
   "nbconvert_exporter": "python",
   "pygments_lexer": "ipython3",
   "version": "3.6.7"
  }
 },
 "nbformat": 4,
 "nbformat_minor": 2
}
