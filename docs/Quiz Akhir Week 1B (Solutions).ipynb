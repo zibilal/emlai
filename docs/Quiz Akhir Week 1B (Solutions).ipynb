{
 "cells": [
  {
   "cell_type": "markdown",
   "metadata": {},
   "source": [
    "**Buat fungsi keliling silinder**\n",
    "<p>Fungsi keliling silinder: $$2πrh+2πr^2$$</p>"
   ]
  },
  {
   "cell_type": "code",
   "execution_count": 4,
   "metadata": {},
   "outputs": [],
   "source": [
    "def vol(rad, height):\n",
    "    return 2*(3.14)*rad*height + 2*(3.14)*(rad**2)"
   ]
  },
  {
   "cell_type": "code",
   "execution_count": 5,
   "metadata": {},
   "outputs": [
    {
     "data": {
      "text/plain": [
       "175.84"
      ]
     },
     "execution_count": 5,
     "metadata": {},
     "output_type": "execute_result"
    }
   ],
   "source": [
    "# check\n",
    "vol(2, 12)"
   ]
  },
  {
   "cell_type": "markdown",
   "metadata": {},
   "source": [
    "**Buat fungsi python yang menghitung jumlah huruf besar dan kecil.**\n",
    "\n",
    "    Sample String : 'Python menyenangkan! Saya suka belajar Python'\n",
    "    Output : \n",
    "    Huruf besar : 3\n",
    "    Huruf kecil : 36"
   ]
  },
  {
   "cell_type": "code",
   "execution_count": 11,
   "metadata": {},
   "outputs": [],
   "source": [
    "def up_low(s):\n",
    "    d={\"upper\":0, \"lower\":0}\n",
    "    for c in s:\n",
    "        if c.isupper():\n",
    "            d[\"upper\"]+=1\n",
    "        elif c.islower():\n",
    "            d[\"lower\"]+=1\n",
    "        else:\n",
    "            pass\n",
    "    print(\"Original String : \", s)\n",
    "    print(\"Huruf besar : \", d[\"upper\"])\n",
    "    print(\"Huruf kecil : \", d[\"lower\"])"
   ]
  },
  {
   "cell_type": "code",
   "execution_count": 12,
   "metadata": {},
   "outputs": [
    {
     "name": "stdout",
     "output_type": "stream",
     "text": [
      "Original String :  Python menyenangkan! Saya suka belajar Python\n",
      "Huruf besar :  3\n",
      "Huruf kecil :  36\n"
     ]
    }
   ],
   "source": [
    "s = 'Python menyenangkan! Saya suka belajar Python'\n",
    "up_low(s)"
   ]
  },
  {
   "cell_type": "markdown",
   "metadata": {},
   "source": [
    "**Buat fungsi Python untuk menjadikan list jadi unik.**\n",
    "\n",
    "    Sample List : daftar_kota = [\n",
    "    \"Jakarta\",\n",
    "    \"Jakarta\",\n",
    "    \"Jakarta\",\n",
    "    \"Bogor\",\n",
    "    \"Bogor\",\n",
    "    \"Bogor\",\n",
    "    \"Jakarta\",\n",
    "    \"Jakarta\",\n",
    "    \"Bandung\",\n",
    "    \"Bandung\",\n",
    "    \"Bandung\",\n",
    "    \"Bandung\",\n",
    "    \"Bandung\",\n",
    "    \"Semarang\",\n",
    "    \"Semarang\",\n",
    "    \"Medan\",\n",
    "    \"Pontianak\",\n",
    "    \"Jakarta\",\n",
    "    \"Jakarta\",\n",
    "    \"Bandung\",\n",
    "    \"Surabaya\",\n",
    "    \"Surabaya\",\n",
    "    \"Surabaya\",\n",
    "    \"Surabaya\",\n",
    "    \"Jakarta\",\n",
    "    \"Jakarta\",\n",
    "    \"Bali\",\n",
    "    \"Bali\",\n",
    "    \"Bali\",\n",
    "    \"Makassar\",\n",
    "    \"Makassar\",\n",
    "    \"Bandung\",\n",
    "    \"Bandung\"]\n",
    "    \n",
    "    Unique List : ['Bali','Bandung','Bogor','Jakarta','Makassar','Medan','Pontianak','Semarang','Surabaya']"
   ]
  },
  {
   "cell_type": "code",
   "execution_count": 19,
   "metadata": {},
   "outputs": [],
   "source": [
    "def unique_list(lst):\n",
    "    return list(set(lst))"
   ]
  },
  {
   "cell_type": "code",
   "execution_count": 16,
   "metadata": {},
   "outputs": [],
   "source": [
    "daftar_kota = [\n",
    "    \"Jakarta\",\n",
    "    \"Jakarta\",\n",
    "    \"Jakarta\",\n",
    "    \"Bogor\",\n",
    "    \"Bogor\",\n",
    "    \"Bogor\",\n",
    "    \"Jakarta\",\n",
    "    \"Jakarta\",\n",
    "    \"Bandung\",\n",
    "    \"Bandung\",\n",
    "    \"Bandung\",\n",
    "    \"Bandung\",\n",
    "    \"Bandung\",\n",
    "    \"Semarang\",\n",
    "    \"Semarang\",\n",
    "    \"Medan\",\n",
    "    \"Pontianak\",\n",
    "    \"Jakarta\",\n",
    "    \"Jakarta\",\n",
    "    \"Bandung\",\n",
    "    \"Surabaya\",\n",
    "    \"Surabaya\",\n",
    "    \"Surabaya\",\n",
    "    \"Surabaya\",\n",
    "    \"Jakarta\",\n",
    "    \"Jakarta\",\n",
    "    \"Bali\",\n",
    "    \"Bali\",\n",
    "    \"Bali\",\n",
    "    \"Makassar\",\n",
    "    \"Makassar\",\n",
    "    \"Bandung\",\n",
    "    \"Bandung\",\n",
    "]"
   ]
  },
  {
   "cell_type": "code",
   "execution_count": 18,
   "metadata": {},
   "outputs": [
    {
     "data": {
      "text/plain": [
       "['Makassar',\n",
       " 'Jakarta',\n",
       " 'Semarang',\n",
       " 'Surabaya',\n",
       " 'Bali',\n",
       " 'Bogor',\n",
       " 'Pontianak',\n",
       " 'Medan',\n",
       " 'Bandung']"
      ]
     },
     "execution_count": 18,
     "metadata": {},
     "output_type": "execute_result"
    }
   ],
   "source": [
    "unique_list(daftar_kota)"
   ]
  },
  {
   "cell_type": "markdown",
   "metadata": {},
   "source": [
    "**Buat fungsi untuk mengecek palindrome.**\n",
    "\n",
    "Note: palindrom adalah kata, fasa yang dibolak balik tetap sama, madam or nurses run."
   ]
  },
  {
   "cell_type": "code",
   "execution_count": 34,
   "metadata": {},
   "outputs": [],
   "source": [
    "def palindrome(s):\n",
    "    \n",
    "    s = s.replace(' ','') \n",
    "    return s == s[::-1]   "
   ]
  },
  {
   "cell_type": "code",
   "execution_count": 35,
   "metadata": {},
   "outputs": [
    {
     "data": {
      "text/plain": [
       "True"
      ]
     },
     "execution_count": 35,
     "metadata": {},
     "output_type": "execute_result"
    }
   ],
   "source": [
    "palindrome('racecar')"
   ]
  },
  {
   "cell_type": "code",
   "execution_count": 37,
   "metadata": {
    "scrolled": true
   },
   "outputs": [
    {
     "data": {
      "text/plain": [
       "True"
      ]
     },
     "execution_count": 37,
     "metadata": {},
     "output_type": "execute_result"
    }
   ],
   "source": [
    "palindrome('nurses run')"
   ]
  },
  {
   "cell_type": "markdown",
   "metadata": {},
   "source": [
    "**Buat fungsi untuk mengalikan semua element list.**\n",
    "\n",
    "    Sample List : [1, 2, 3, -4]\n",
    "    Output : -24"
   ]
  },
  {
   "cell_type": "code",
   "execution_count": 22,
   "metadata": {},
   "outputs": [],
   "source": [
    "from functools import reduce\n",
    "\n",
    "def sum_multi(lst): return reduce((lambda x,y: x*y),lst)"
   ]
  },
  {
   "cell_type": "markdown",
   "metadata": {},
   "source": [
    "#### SUMMER OF '69: Return jumlahnya, skip 6 sampai 9. Return 0 jika tidak ada angka.\n",
    " \n",
    "    summer_69([1, 3, 5]) --> 9\n",
    "    summer_69([4, 5, 6, 7, 8, 9]) --> 9\n",
    "    summer_69([2, 1, 6, 9, 11]) --> 14"
   ]
  },
  {
   "cell_type": "code",
   "execution_count": 30,
   "metadata": {},
   "outputs": [],
   "source": [
    "def summer_69(arr):\n",
    "    total = 0\n",
    "    add = True\n",
    "    for num in arr:\n",
    "        while add:\n",
    "            # the first while, process before 6\n",
    "            if num != 6:\n",
    "                total += num\n",
    "                break\n",
    "                \n",
    "            else:\n",
    "                # process after above 6, pass it to the second while\n",
    "                add = False\n",
    "        while not add: # process after above 6, will keep adding \n",
    "            if num != 9:\n",
    "                break\n",
    "            else:\n",
    "                # process after above 9, back to the first while\n",
    "                add = True\n",
    "                break\n",
    "    return total"
   ]
  },
  {
   "cell_type": "code",
   "execution_count": 33,
   "metadata": {},
   "outputs": [
    {
     "data": {
      "text/plain": [
       "9"
      ]
     },
     "execution_count": 33,
     "metadata": {},
     "output_type": "execute_result"
    }
   ],
   "source": [
    "summer_69([1, 3, 5])"
   ]
  },
  {
   "cell_type": "code",
   "execution_count": 32,
   "metadata": {},
   "outputs": [
    {
     "data": {
      "text/plain": [
       "9"
      ]
     },
     "execution_count": 32,
     "metadata": {},
     "output_type": "execute_result"
    }
   ],
   "source": [
    "summer_69([4, 5, 6, 7, 8, 9])"
   ]
  },
  {
   "cell_type": "code",
   "execution_count": 31,
   "metadata": {},
   "outputs": [
    {
     "data": {
      "text/plain": [
       "14"
      ]
     },
     "execution_count": 31,
     "metadata": {},
     "output_type": "execute_result"
    }
   ],
   "source": [
    "summer_69([2, 1, 6, 9, 11]) "
   ]
  }
 ],
 "metadata": {
  "kernelspec": {
   "display_name": "Python 3",
   "language": "python",
   "name": "python3"
  },
  "language_info": {
   "codemirror_mode": {
    "name": "ipython",
    "version": 3
   },
   "file_extension": ".py",
   "mimetype": "text/x-python",
   "name": "python",
   "nbconvert_exporter": "python",
   "pygments_lexer": "ipython3",
   "version": "3.6.7"
  }
 },
 "nbformat": 4,
 "nbformat_minor": 2
}
