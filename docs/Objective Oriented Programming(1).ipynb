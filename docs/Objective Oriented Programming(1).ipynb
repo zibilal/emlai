{
 "cells": [
  {
   "cell_type": "code",
   "execution_count": 14,
   "metadata": {},
   "outputs": [],
   "source": [
    "class MyClass(object):\n",
    "    \n",
    "    def __init__(self,nama,lantai):\n",
    "        self.nama = nama\n",
    "        self.lantai = lantai\n",
    "        print(\"Kelas pertama saya!\")\n",
    "        \n",
    "    def get_jumlah_murid(self,jumlah):\n",
    "        print(\"Jumlah murid adalah {}\".format(jumlah))\n",
    "        \n",
    "    def func1():\n",
    "        pass\n",
    "    \n",
    "    def func2():\n",
    "        pass"
   ]
  },
  {
   "cell_type": "code",
   "execution_count": 11,
   "metadata": {},
   "outputs": [
    {
     "name": "stdout",
     "output_type": "stream",
     "text": [
      "Kelas pertama saya!\n"
     ]
    }
   ],
   "source": [
    "myclass = MyClass(\"XI IPA 2\",\"3\")"
   ]
  },
  {
   "cell_type": "code",
   "execution_count": 8,
   "metadata": {},
   "outputs": [
    {
     "data": {
      "text/plain": [
       "'XI IPA 2'"
      ]
     },
     "execution_count": 8,
     "metadata": {},
     "output_type": "execute_result"
    }
   ],
   "source": [
    "myclass.nama"
   ]
  },
  {
   "cell_type": "code",
   "execution_count": 9,
   "metadata": {},
   "outputs": [
    {
     "data": {
      "text/plain": [
       "'3'"
      ]
     },
     "execution_count": 9,
     "metadata": {},
     "output_type": "execute_result"
    }
   ],
   "source": [
    "myclass.lantai"
   ]
  },
  {
   "cell_type": "code",
   "execution_count": 12,
   "metadata": {
    "scrolled": true
   },
   "outputs": [
    {
     "name": "stdout",
     "output_type": "stream",
     "text": [
      "Jumlah murid adalah 45\n"
     ]
    }
   ],
   "source": [
    "myclass.get_jumlah_murid(45)"
   ]
  },
  {
   "cell_type": "code",
   "execution_count": 15,
   "metadata": {},
   "outputs": [],
   "source": [
    "from math import pow\n",
    "from copy import deepcopy"
   ]
  },
  {
   "cell_type": "code",
   "execution_count": 72,
   "metadata": {},
   "outputs": [],
   "source": [
    "class Matrix(object):\n",
    "    def __init__(self,values):\n",
    "        try:\n",
    "            if not values:\n",
    "                raise ValueError\n",
    "        \n",
    "  \n",
    "            for x in range(len(values)-1):\n",
    "                if not len(values[x]) == len(values[x+1]):\n",
    "                    raise ValueError\n",
    "              \n",
    "            self.values = list(values) \n",
    "            self.m = len(values) \n",
    "            self.n = len(self.values[0]) \n",
    "            self.order = (self.m,self.n) \n",
    "            \n",
    "        except ValueError:\n",
    "            raise ValueError('Matriks tidak boleh kosong dan jumlah kolom ber baris harus sama')\n",
    "            \n",
    "    def __str__(self):\n",
    "        a = \"\\n\" \n",
    "        for x in range(self.m):\n",
    "            for y in range(self.n):\n",
    "                a = a + str(self.values[x][y]) + \" \"\n",
    "            a = a + \"\\n\"\n",
    "        return a\n",
    "    \n",
    "    def __getitem__(self,key):\n",
    "        return self.values[key] \n",
    "\n",
    "    def __eq__(self,v):\n",
    "           return self.values == v.values    \n",
    "   \n",
    "    def transpose(self):\n",
    "        return Matrix([[self[j][i] for j in range(self.m)]for i in range(self.n)])\n",
    "\n",
    "   \n",
    "    #### FUNGSI MATRIX ####\n",
    "    def plus(self, v):\n",
    "        try:\n",
    "            if not self.order == v.order:\n",
    "                raise ValueError\n",
    "\n",
    "            new_values = [[self[i][j] + v[i][j] for j in range(self.n)] for i in \n",
    "                          range(self.m)]\n",
    "            return Matrix(new_values)\n",
    "\n",
    "        except ValueError:\n",
    "            raise ValueError('Order matriks harus sama')\n",
    "            \n",
    "    def minus(self, v):\n",
    "        try:\n",
    "            if not self.order == v.order:\n",
    "                raise ValueError\n",
    "\n",
    "            new_values = [[self[i][j] - v[i][j] for j in range(self.n)] for i in \n",
    "                          range(self.m)]\n",
    "            return Matrix(new_values)\n",
    "\n",
    "        except ValueError:\n",
    "            raise ValueError('Order matriks harus sama')        \n",
    "    \n",
    "    \n",
    "    def times_scalar(self, c):\n",
    "        new_values = [[c * self[i][j] for j in range(self.n)] for i in \n",
    "                       range(self.m)]\n",
    "        return Matrix(new_values)\n",
    "    \n",
    "    def dot(self, v):\n",
    "        dotValues = [\n",
    "            [self[i][j] * v[i][j] for j in range(self.n)] for i in range(self.m)\n",
    "        ]\n",
    "        return Matrix(dotValues)\n",
    "    \n",
    "    def times_Matrix(self, c):\n",
    "        try:\n",
    "            if self.n != c.m:\n",
    "                raise ValueError\n",
    "                \n",
    "            temp = Matrix([\n",
    "                [sum([ c[i][j] * self[a][b] for b,i in zip(range(self.n),range(c.m))]) \n",
    "                for j in range(c.n)]\n",
    "                for a in range(self.m)\n",
    "            ])\n",
    "            \n",
    "            return Matrix([[\"{:.2f}\".format(temp[i][j]) for j in range(temp.n)\n",
    "                           ]for i in range(temp.m)])\n",
    "            \n",
    "            \n",
    "        except ValueError:\n",
    "            raise ValueError(\"Kolom matriks pertama harus sama dengan baris matriks kedua\")\n",
    "            "
   ]
  },
  {
   "cell_type": "code",
   "execution_count": 85,
   "metadata": {
    "scrolled": true
   },
   "outputs": [
    {
     "name": "stdout",
     "output_type": "stream",
     "text": [
      "Matriks A \n",
      "1 2 1 1 \n",
      "3 4 5 6 \n",
      "\n",
      "\n",
      "\n",
      "Matriks B \n",
      "2 3 4 4 \n",
      "3 3 2 1 \n",
      "\n"
     ]
    }
   ],
   "source": [
    "# Define a Matrix\n",
    "z = Matrix([[1,2,1,1],[3,4,5,6]])\n",
    "x = Matrix([[2,3,4,4],[3,3,2,1]])\n",
    "print('Matriks A',z)\n",
    "print('\\n')\n",
    "print('Matriks B',x)"
   ]
  },
  {
   "cell_type": "code",
   "execution_count": 75,
   "metadata": {},
   "outputs": [],
   "source": [
    "import numpy as np"
   ]
  },
  {
   "cell_type": "code",
   "execution_count": 77,
   "metadata": {},
   "outputs": [
    {
     "name": "stdout",
     "output_type": "stream",
     "text": [
      "[[1 2 1 1]\n",
      " [3 4 5 6]]\n"
     ]
    }
   ],
   "source": [
    "z = np.array([[1,2,1,1],[3,4,5,6]])\n",
    "print(z)"
   ]
  },
  {
   "cell_type": "code",
   "execution_count": 78,
   "metadata": {},
   "outputs": [
    {
     "name": "stdout",
     "output_type": "stream",
     "text": [
      "[[2 3 4 4]\n",
      " [3 3 2 1]\n",
      " [2 4 2 1]\n",
      " [1 1 1 1]]\n"
     ]
    }
   ],
   "source": [
    "x = np.array([[2,3,4,4],[3,3,2,1],[2,4,2,1],[1,1,1,1]])\n",
    "print(x)"
   ]
  },
  {
   "cell_type": "code",
   "execution_count": 79,
   "metadata": {},
   "outputs": [
    {
     "data": {
      "text/plain": [
       "array([[11, 14, 11,  8],\n",
       "       [34, 47, 36, 27]])"
      ]
     },
     "execution_count": 79,
     "metadata": {},
     "output_type": "execute_result"
    }
   ],
   "source": [
    "z @ x "
   ]
  },
  {
   "cell_type": "code",
   "execution_count": 74,
   "metadata": {},
   "outputs": [
    {
     "name": "stdout",
     "output_type": "stream",
     "text": [
      "Perkalian matriks:\n",
      "\n",
      "11.00 14.00 11.00 8.00 \n",
      "34.00 47.00 36.00 27.00 \n",
      "\n"
     ]
    }
   ],
   "source": [
    "print('Perkalian matriks:')\n",
    "print(z.times_Matrix(x))"
   ]
  },
  {
   "cell_type": "code",
   "execution_count": 65,
   "metadata": {},
   "outputs": [
    {
     "name": "stdout",
     "output_type": "stream",
     "text": [
      "Perkalian dot:\n",
      "\n",
      "2 6 4 4 \n",
      "9 12 10 6 \n",
      "\n"
     ]
    }
   ],
   "source": [
    "print('Perkalian dot:')\n",
    "print(z.dot(x))"
   ]
  },
  {
   "cell_type": "code",
   "execution_count": 64,
   "metadata": {},
   "outputs": [
    {
     "name": "stdout",
     "output_type": "stream",
     "text": [
      "Transpose:\n",
      "\n",
      "1 3 \n",
      "2 4 \n",
      "1 5 \n",
      "1 6 \n",
      "\n",
      "Penjumlahan:\n",
      "\n",
      "3 5 5 5 \n",
      "6 7 7 7 \n",
      "\n",
      "Pengurangan:\n",
      "\n",
      "-1 -1 -3 -3 \n",
      "0 1 3 5 \n",
      "\n",
      "Perkalian skalar:\n",
      "\n",
      "2 4 2 2 \n",
      "6 8 10 12 \n",
      "\n",
      "Perkalian dot:\n",
      "\n",
      "2 6 4 4 \n",
      "9 12 10 6 \n",
      "\n"
     ]
    }
   ],
   "source": [
    "print('Transpose:')\n",
    "print(z.transpose())\n",
    "print('Penjumlahan:')\n",
    "print(z.plus(x))\n",
    "print('Pengurangan:')\n",
    "print(z.minus(x))\n",
    "print('Perkalian skalar:')\n",
    "print(z.times_scalar(2))\n"
   ]
  },
  {
   "cell_type": "code",
   "execution_count": 47,
   "metadata": {},
   "outputs": [
    {
     "data": {
      "text/plain": [
       "(2, 4)"
      ]
     },
     "execution_count": 47,
     "metadata": {},
     "output_type": "execute_result"
    }
   ],
   "source": [
    "z.order"
   ]
  },
  {
   "cell_type": "code",
   "execution_count": 48,
   "metadata": {},
   "outputs": [
    {
     "data": {
      "text/plain": [
       "2"
      ]
     },
     "execution_count": 48,
     "metadata": {},
     "output_type": "execute_result"
    }
   ],
   "source": [
    "z.m"
   ]
  },
  {
   "cell_type": "code",
   "execution_count": 49,
   "metadata": {},
   "outputs": [
    {
     "data": {
      "text/plain": [
       "4"
      ]
     },
     "execution_count": 49,
     "metadata": {},
     "output_type": "execute_result"
    }
   ],
   "source": [
    "z.n"
   ]
  },
  {
   "cell_type": "code",
   "execution_count": 83,
   "metadata": {},
   "outputs": [
    {
     "data": {
      "text/plain": [
       "[[1, 2, 1, 1], [3, 4, 5, 6]]"
      ]
     },
     "execution_count": 83,
     "metadata": {},
     "output_type": "execute_result"
    }
   ],
   "source": [
    "z.values"
   ]
  },
  {
   "cell_type": "code",
   "execution_count": 87,
   "metadata": {},
   "outputs": [
    {
     "data": {
      "text/plain": [
       "[[3, 5, 5, 5], [6, 7, 7, 7]]"
      ]
     },
     "execution_count": 87,
     "metadata": {},
     "output_type": "execute_result"
    }
   ],
   "source": [
    "z.plus(x).values"
   ]
  },
  {
   "cell_type": "code",
   "execution_count": null,
   "metadata": {},
   "outputs": [],
   "source": []
  }
 ],
 "metadata": {
  "kernelspec": {
   "display_name": "Python 3",
   "language": "python",
   "name": "python3"
  },
  "language_info": {
   "codemirror_mode": {
    "name": "ipython",
    "version": 3
   },
   "file_extension": ".py",
   "mimetype": "text/x-python",
   "name": "python",
   "nbconvert_exporter": "python",
   "pygments_lexer": "ipython3",
   "version": "3.6.7"
  }
 },
 "nbformat": 4,
 "nbformat_minor": 2
}
