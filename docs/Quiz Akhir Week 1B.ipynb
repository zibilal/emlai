{
 "cells": [
  {
   "cell_type": "markdown",
   "metadata": {},
   "source": [
    "**Buat fungsi keliling silinder**\n",
    "<p>Fungsi keliling silinder: $$2πrh+2πr^2$$</p>"
   ]
  },
  {
   "cell_type": "code",
   "execution_count": 10,
   "metadata": {},
   "outputs": [],
   "source": [
    "import math\n",
    "def vol(rad, height):\n",
    "    return 2*math.pi*rad*height + 2*math.pi*rad**2"
   ]
  },
  {
   "cell_type": "code",
   "execution_count": 11,
   "metadata": {},
   "outputs": [
    {
     "data": {
      "text/plain": [
       "175.92918860102841"
      ]
     },
     "execution_count": 11,
     "metadata": {},
     "output_type": "execute_result"
    }
   ],
   "source": [
    "# check\n",
    "vol(2, 12)"
   ]
  },
  {
   "cell_type": "markdown",
   "metadata": {},
   "source": [
    "**Buat fungsi python yang menghitung jumlah huruf besar dan kecil.**\n",
    "\n",
    "    Sample String : 'Python menyenangkan! Saya suka belajar Python'\n",
    "    Output : \n",
    "    Huruf besar : 3\n",
    "    Huruf kecil : 36"
   ]
  },
  {
   "cell_type": "code",
   "execution_count": 15,
   "metadata": {},
   "outputs": [],
   "source": [
    "def up_low(s):\n",
    "    huruf_besar = 0\n",
    "    huruf_kecil = 0\n",
    "    for c in s:\n",
    "        if c.isupper():\n",
    "            huruf_besar+=1\n",
    "        else:\n",
    "            huruf_kecil+=1\n",
    "    print(\"Huruf besar : %d\" % huruf_besar)\n",
    "    print(\"Huruf kecil : %d\" % huruf_kecil)"
   ]
  },
  {
   "cell_type": "code",
   "execution_count": 16,
   "metadata": {},
   "outputs": [
    {
     "name": "stdout",
     "output_type": "stream",
     "text": [
      "Python menyenangkan! Saya suka belajar Python\n",
      "Huruf besar : 3\n",
      "Huruf kecil : 42\n"
     ]
    }
   ],
   "source": [
    "s = 'Python menyenangkan! Saya suka belajar Python'\n",
    "print(s)\n",
    "up_low(s)"
   ]
  },
  {
   "cell_type": "markdown",
   "metadata": {},
   "source": [
    "**Buat fungsi Python untuk menjadikan list jadi unik.**\n",
    "\n",
    "    Sample List : daftar_kota = [\n",
    "    \"Jakarta\",\n",
    "    \"Jakarta\",\n",
    "    \"Jakarta\",\n",
    "    \"Bogor\",\n",
    "    \"Bogor\",\n",
    "    \"Bogor\",\n",
    "    \"Jakarta\",\n",
    "    \"Jakarta\",\n",
    "    \"Bandung\",\n",
    "    \"Bandung\",\n",
    "    \"Bandung\",\n",
    "    \"Bandung\",\n",
    "    \"Bandung\",\n",
    "    \"Semarang\",\n",
    "    \"Semarang\",\n",
    "    \"Medan\",\n",
    "    \"Pontianak\",\n",
    "    \"Jakarta\",\n",
    "    \"Jakarta\",\n",
    "    \"Bandung\",\n",
    "    \"Surabaya\",\n",
    "    \"Surabaya\",\n",
    "    \"Surabaya\",\n",
    "    \"Surabaya\",\n",
    "    \"Jakarta\",\n",
    "    \"Jakarta\",\n",
    "    \"Bali\",\n",
    "    \"Bali\",\n",
    "    \"Bali\",\n",
    "    \"Makassar\",\n",
    "    \"Makassar\",\n",
    "    \"Bandung\",\n",
    "    \"Bandung\"]\n",
    "    \n",
    "    Unique List : ['Bali','Bandung','Bogor','Jakarta','Makassar','Medan','Pontianak','Semarang','Surabaya']"
   ]
  },
  {
   "cell_type": "code",
   "execution_count": 21,
   "metadata": {},
   "outputs": [],
   "source": [
    "def unique_list(lst):\n",
    "    return list(set(lst))"
   ]
  },
  {
   "cell_type": "code",
   "execution_count": 22,
   "metadata": {},
   "outputs": [],
   "source": [
    "daftar_kota = [\n",
    "    \"Jakarta\",\n",
    "    \"Jakarta\",\n",
    "    \"Jakarta\",\n",
    "    \"Bogor\",\n",
    "    \"Bogor\",\n",
    "    \"Bogor\",\n",
    "    \"Jakarta\",\n",
    "    \"Jakarta\",\n",
    "    \"Bandung\",\n",
    "    \"Bandung\",\n",
    "    \"Bandung\",\n",
    "    \"Bandung\",\n",
    "    \"Bandung\",\n",
    "    \"Semarang\",\n",
    "    \"Semarang\",\n",
    "    \"Medan\",\n",
    "    \"Pontianak\",\n",
    "    \"Jakarta\",\n",
    "    \"Jakarta\",\n",
    "    \"Bandung\",\n",
    "    \"Surabaya\",\n",
    "    \"Surabaya\",\n",
    "    \"Surabaya\",\n",
    "    \"Surabaya\",\n",
    "    \"Jakarta\",\n",
    "    \"Jakarta\",\n",
    "    \"Bali\",\n",
    "    \"Bali\",\n",
    "    \"Bali\",\n",
    "    \"Makassar\",\n",
    "    \"Makassar\",\n",
    "    \"Bandung\",\n",
    "    \"Bandung\",\n",
    "]"
   ]
  },
  {
   "cell_type": "code",
   "execution_count": 23,
   "metadata": {},
   "outputs": [
    {
     "data": {
      "text/plain": [
       "['Bali',\n",
       " 'Medan',\n",
       " 'Semarang',\n",
       " 'Pontianak',\n",
       " 'Bandung',\n",
       " 'Surabaya',\n",
       " 'Makassar',\n",
       " 'Bogor',\n",
       " 'Jakarta']"
      ]
     },
     "execution_count": 23,
     "metadata": {},
     "output_type": "execute_result"
    }
   ],
   "source": [
    "unique_list(daftar_kota)"
   ]
  },
  {
   "cell_type": "markdown",
   "metadata": {},
   "source": [
    "**Buat fungsi untuk mengecek palindrome.**\n",
    "\n",
    "Note: palindrom adalah kata, fasa yang dibolak balik tetap sama, madam or nurses run."
   ]
  },
  {
   "cell_type": "code",
   "execution_count": 27,
   "metadata": {},
   "outputs": [],
   "source": [
    "def palindrome(s):\n",
    "    def pal_rec(s, start, end):\n",
    "        if start == end:\n",
    "            return True\n",
    "        if s[start] != s[end]:\n",
    "            return False\n",
    "        if start < end+1:\n",
    "            return pal_rec(s, start+1, end-1)\n",
    "        return True\n",
    "    st = s.replace(' ', '')\n",
    "    if len(st) == 0:\n",
    "        return False\n",
    "    return pal_rec(st, 0, len(st)-1)"
   ]
  },
  {
   "cell_type": "code",
   "execution_count": 28,
   "metadata": {},
   "outputs": [
    {
     "data": {
      "text/plain": [
       "True"
      ]
     },
     "execution_count": 28,
     "metadata": {},
     "output_type": "execute_result"
    }
   ],
   "source": [
    "palindrome('racecar')"
   ]
  },
  {
   "cell_type": "code",
   "execution_count": 29,
   "metadata": {
    "scrolled": true
   },
   "outputs": [
    {
     "data": {
      "text/plain": [
       "True"
      ]
     },
     "execution_count": 29,
     "metadata": {},
     "output_type": "execute_result"
    }
   ],
   "source": [
    "palindrome('nurses run')"
   ]
  },
  {
   "cell_type": "markdown",
   "metadata": {},
   "source": [
    "**Buat fungsi untuk mengalikan semua element list.**\n",
    "\n",
    "    Sample List : [1, 2, 3, -4]\n",
    "    Output : -24"
   ]
  },
  {
   "cell_type": "code",
   "execution_count": 30,
   "metadata": {},
   "outputs": [
    {
     "name": "stdout",
     "output_type": "stream",
     "text": [
      "-24\n"
     ]
    }
   ],
   "source": [
    "from functools import reduce\n",
    "\n",
    "def sum_multi(lst):\n",
    "    return reduce(lambda a, b: a*b, lst)\n",
    "\n",
    "print(sum_multi([1, 2, 3, -4]))"
   ]
  },
  {
   "cell_type": "markdown",
   "metadata": {},
   "source": [
    "#### SUMMER OF '69: Return jumlahnya, skip 6 sampai 9. Return 0 jika tidak ada angka.\n",
    " \n",
    "    summer_69([1, 3, 5]) --> 9\n",
    "    summer_69([4, 5, 6, 7, 8, 9]) --> 9\n",
    "    summer_69([2, 1, 6, 9, 11]) --> 14"
   ]
  },
  {
   "cell_type": "code",
   "execution_count": 31,
   "metadata": {},
   "outputs": [],
   "source": [
    "def summer_69(arr):\n",
    "    result = 0\n",
    "    for l in arr:\n",
    "        if l >= 6 and l <= 9:\n",
    "            continue\n",
    "        result += l\n",
    "    return result"
   ]
  },
  {
   "cell_type": "code",
   "execution_count": 32,
   "metadata": {},
   "outputs": [
    {
     "data": {
      "text/plain": [
       "9"
      ]
     },
     "execution_count": 32,
     "metadata": {},
     "output_type": "execute_result"
    }
   ],
   "source": [
    "summer_69([1, 3, 5])"
   ]
  },
  {
   "cell_type": "code",
   "execution_count": 33,
   "metadata": {},
   "outputs": [
    {
     "data": {
      "text/plain": [
       "9"
      ]
     },
     "execution_count": 33,
     "metadata": {},
     "output_type": "execute_result"
    }
   ],
   "source": [
    "summer_69([4, 5, 6, 7, 8, 9])"
   ]
  },
  {
   "cell_type": "code",
   "execution_count": 34,
   "metadata": {},
   "outputs": [
    {
     "data": {
      "text/plain": [
       "14"
      ]
     },
     "execution_count": 34,
     "metadata": {},
     "output_type": "execute_result"
    }
   ],
   "source": [
    "summer_69([2, 1, 6, 9, 11]) "
   ]
  },
  {
   "cell_type": "code",
   "execution_count": null,
   "metadata": {},
   "outputs": [],
   "source": []
  }
 ],
 "metadata": {
  "kernelspec": {
   "display_name": "Python 3",
   "language": "python",
   "name": "python3"
  },
  "language_info": {
   "codemirror_mode": {
    "name": "ipython",
    "version": 3
   },
   "file_extension": ".py",
   "mimetype": "text/x-python",
   "name": "python",
   "nbconvert_exporter": "python",
   "pygments_lexer": "ipython3",
   "version": "3.6.7"
  }
 },
 "nbformat": 4,
 "nbformat_minor": 2
}
